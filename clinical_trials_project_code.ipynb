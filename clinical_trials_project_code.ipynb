{
  "cells": [
    {
      "cell_type": "markdown",
      "source": [
        "# **In this Project we use clinical trials data from https://clinicaltrials.gov/ that contains what drugs have been used for conditions for approval. Our aim is to predict new links between drugs and condtions using Deep Learning methods (Graph Neural Networks).**\n",
        "\n",
        "We use pretrained embeddings from Drug Repurposing Knowledge Graph (https://github.com/gnn4dr/DRKG/blob/master/DRKG%20Drug%20Repurposing%20Knowledge%20Graph.pdf) as feautres for our drug and condition entities"
      ],
      "metadata": {
        "id": "hqbK19glLwPo"
      },
      "id": "hqbK19glLwPo"
    },
    {
      "cell_type": "markdown",
      "source": [
        "Install PyTorch Geometric Libraries with dependencies\n"
      ],
      "metadata": {
        "id": "34ntd9XEabOs"
      },
      "id": "34ntd9XEabOs"
    },
    {
      "cell_type": "code",
      "source": [
        "\n",
        "# !pip install -q torch-scatter -f https://data.pyg.org/whl/torch-${TORCH}.html\n",
        "# !pip install -q torch-sparse -f https://data.pyg.org/whl/torch-${TORCH}.html\n",
        "!pip install -q git+https://github.com/pyg-team/pytorch_geometric.git"
      ],
      "metadata": {
        "colab": {
          "base_uri": "https://localhost:8080/"
        },
        "id": "grXAQL--Su7K",
        "outputId": "4804f01f-00bb-41a9-e488-f126449276f9"
      },
      "id": "grXAQL--Su7K",
      "execution_count": null,
      "outputs": [
        {
          "output_type": "stream",
          "name": "stdout",
          "text": [
            "  Installing build dependencies ... \u001b[?25l\u001b[?25hdone\n",
            "  Getting requirements to build wheel ... \u001b[?25l\u001b[?25hdone\n",
            "  Preparing metadata (pyproject.toml) ... \u001b[?25l\u001b[?25hdone\n",
            "  Building wheel for torch_geometric (pyproject.toml) ... \u001b[?25l\u001b[?25hdone\n"
          ]
        }
      ]
    },
    {
      "cell_type": "markdown",
      "source": [
        "Import Libraries"
      ],
      "metadata": {
        "id": "vrWp9uqWYYqf"
      },
      "id": "vrWp9uqWYYqf"
    },
    {
      "cell_type": "code",
      "execution_count": null,
      "id": "3740672a",
      "metadata": {
        "id": "3740672a",
        "colab": {
          "base_uri": "https://localhost:8080/"
        },
        "outputId": "fc7dbe85-36d4-4a94-fb60-9e83730518ee"
      },
      "outputs": [
        {
          "output_type": "stream",
          "name": "stdout",
          "text": [
            "Mounted at /content/drive\n"
          ]
        }
      ],
      "source": [
        "import os\n",
        "import sys\n",
        "\n",
        "from google.colab import drive\n",
        "drive.mount('/content/drive')\n",
        "\n",
        "main_path = \"drive/MyDrive\"\n",
        "# sys.path.append('/project/uml_rachel_melamed/Affinity_Regression/Athena')\n",
        "# sys.path.append('/project/uml_rachel_melamed/Panos/Mendelian_diseases_2/mamoon_project/data/updated/')\n",
        "\n",
        "import numpy as np\n",
        "import pandas as pd\n",
        "pd.set_option('display.max_columns', 200)\n",
        "\n",
        "import warnings\n",
        "warnings.filterwarnings(\"ignore\")\n",
        "\n",
        "import torch\n",
        "import torch.nn.functional as F\n",
        "import torch_geometric\n"
      ]
    },
    {
      "cell_type": "markdown",
      "id": "fda3acb7",
      "metadata": {
        "id": "fda3acb7"
      },
      "source": [
        "## Import Datasets"
      ]
    },
    {
      "cell_type": "markdown",
      "source": [
        "Clinical_Trial-Drug Data"
      ],
      "metadata": {
        "id": "48aaDnXGYv2H"
      },
      "id": "48aaDnXGYv2H"
    },
    {
      "cell_type": "code",
      "execution_count": null,
      "id": "60420079",
      "metadata": {
        "colab": {
          "base_uri": "https://localhost:8080/",
          "height": 143
        },
        "id": "60420079",
        "outputId": "e18e3532-2ab9-4473-bbbe-9904fdff3320"
      },
      "outputs": [
        {
          "output_type": "execute_result",
          "data": {
            "text/plain": [
              "        nct_id intervention_mesh_term intervention_mesh_code  \\\n",
              "0  NCT02248428            thalidomide                D013792   \n",
              "1  NCT02248428         clarithromycin                D017291   \n",
              "2  NCT02248428          dexamethasone                D003907   \n",
              "\n",
              "  intervention_rxnorm_term  intervention_rxnorm_code  \n",
              "0              thalidomide                     10432  \n",
              "1           clarithromycin                     21212  \n",
              "2            dexamethasone                      3264  "
            ],
            "text/html": [
              "\n",
              "  <div id=\"df-7aa0b831-07f7-4a55-8f81-5fdadcb23ef1\">\n",
              "    <div class=\"colab-df-container\">\n",
              "      <div>\n",
              "<style scoped>\n",
              "    .dataframe tbody tr th:only-of-type {\n",
              "        vertical-align: middle;\n",
              "    }\n",
              "\n",
              "    .dataframe tbody tr th {\n",
              "        vertical-align: top;\n",
              "    }\n",
              "\n",
              "    .dataframe thead th {\n",
              "        text-align: right;\n",
              "    }\n",
              "</style>\n",
              "<table border=\"1\" class=\"dataframe\">\n",
              "  <thead>\n",
              "    <tr style=\"text-align: right;\">\n",
              "      <th></th>\n",
              "      <th>nct_id</th>\n",
              "      <th>intervention_mesh_term</th>\n",
              "      <th>intervention_mesh_code</th>\n",
              "      <th>intervention_rxnorm_term</th>\n",
              "      <th>intervention_rxnorm_code</th>\n",
              "    </tr>\n",
              "  </thead>\n",
              "  <tbody>\n",
              "    <tr>\n",
              "      <th>0</th>\n",
              "      <td>NCT02248428</td>\n",
              "      <td>thalidomide</td>\n",
              "      <td>D013792</td>\n",
              "      <td>thalidomide</td>\n",
              "      <td>10432</td>\n",
              "    </tr>\n",
              "    <tr>\n",
              "      <th>1</th>\n",
              "      <td>NCT02248428</td>\n",
              "      <td>clarithromycin</td>\n",
              "      <td>D017291</td>\n",
              "      <td>clarithromycin</td>\n",
              "      <td>21212</td>\n",
              "    </tr>\n",
              "    <tr>\n",
              "      <th>2</th>\n",
              "      <td>NCT02248428</td>\n",
              "      <td>dexamethasone</td>\n",
              "      <td>D003907</td>\n",
              "      <td>dexamethasone</td>\n",
              "      <td>3264</td>\n",
              "    </tr>\n",
              "  </tbody>\n",
              "</table>\n",
              "</div>\n",
              "      <button class=\"colab-df-convert\" onclick=\"convertToInteractive('df-7aa0b831-07f7-4a55-8f81-5fdadcb23ef1')\"\n",
              "              title=\"Convert this dataframe to an interactive table.\"\n",
              "              style=\"display:none;\">\n",
              "        \n",
              "  <svg xmlns=\"http://www.w3.org/2000/svg\" height=\"24px\"viewBox=\"0 0 24 24\"\n",
              "       width=\"24px\">\n",
              "    <path d=\"M0 0h24v24H0V0z\" fill=\"none\"/>\n",
              "    <path d=\"M18.56 5.44l.94 2.06.94-2.06 2.06-.94-2.06-.94-.94-2.06-.94 2.06-2.06.94zm-11 1L8.5 8.5l.94-2.06 2.06-.94-2.06-.94L8.5 2.5l-.94 2.06-2.06.94zm10 10l.94 2.06.94-2.06 2.06-.94-2.06-.94-.94-2.06-.94 2.06-2.06.94z\"/><path d=\"M17.41 7.96l-1.37-1.37c-.4-.4-.92-.59-1.43-.59-.52 0-1.04.2-1.43.59L10.3 9.45l-7.72 7.72c-.78.78-.78 2.05 0 2.83L4 21.41c.39.39.9.59 1.41.59.51 0 1.02-.2 1.41-.59l7.78-7.78 2.81-2.81c.8-.78.8-2.07 0-2.86zM5.41 20L4 18.59l7.72-7.72 1.47 1.35L5.41 20z\"/>\n",
              "  </svg>\n",
              "      </button>\n",
              "      \n",
              "  <style>\n",
              "    .colab-df-container {\n",
              "      display:flex;\n",
              "      flex-wrap:wrap;\n",
              "      gap: 12px;\n",
              "    }\n",
              "\n",
              "    .colab-df-convert {\n",
              "      background-color: #E8F0FE;\n",
              "      border: none;\n",
              "      border-radius: 50%;\n",
              "      cursor: pointer;\n",
              "      display: none;\n",
              "      fill: #1967D2;\n",
              "      height: 32px;\n",
              "      padding: 0 0 0 0;\n",
              "      width: 32px;\n",
              "    }\n",
              "\n",
              "    .colab-df-convert:hover {\n",
              "      background-color: #E2EBFA;\n",
              "      box-shadow: 0px 1px 2px rgba(60, 64, 67, 0.3), 0px 1px 3px 1px rgba(60, 64, 67, 0.15);\n",
              "      fill: #174EA6;\n",
              "    }\n",
              "\n",
              "    [theme=dark] .colab-df-convert {\n",
              "      background-color: #3B4455;\n",
              "      fill: #D2E3FC;\n",
              "    }\n",
              "\n",
              "    [theme=dark] .colab-df-convert:hover {\n",
              "      background-color: #434B5C;\n",
              "      box-shadow: 0px 1px 3px 1px rgba(0, 0, 0, 0.15);\n",
              "      filter: drop-shadow(0px 1px 2px rgba(0, 0, 0, 0.3));\n",
              "      fill: #FFFFFF;\n",
              "    }\n",
              "  </style>\n",
              "\n",
              "      <script>\n",
              "        const buttonEl =\n",
              "          document.querySelector('#df-7aa0b831-07f7-4a55-8f81-5fdadcb23ef1 button.colab-df-convert');\n",
              "        buttonEl.style.display =\n",
              "          google.colab.kernel.accessAllowed ? 'block' : 'none';\n",
              "\n",
              "        async function convertToInteractive(key) {\n",
              "          const element = document.querySelector('#df-7aa0b831-07f7-4a55-8f81-5fdadcb23ef1');\n",
              "          const dataTable =\n",
              "            await google.colab.kernel.invokeFunction('convertToInteractive',\n",
              "                                                     [key], {});\n",
              "          if (!dataTable) return;\n",
              "\n",
              "          const docLinkHtml = 'Like what you see? Visit the ' +\n",
              "            '<a target=\"_blank\" href=https://colab.research.google.com/notebooks/data_table.ipynb>data table notebook</a>'\n",
              "            + ' to learn more about interactive tables.';\n",
              "          element.innerHTML = '';\n",
              "          dataTable['output_type'] = 'display_data';\n",
              "          await google.colab.output.renderOutput(dataTable, element);\n",
              "          const docLink = document.createElement('div');\n",
              "          docLink.innerHTML = docLinkHtml;\n",
              "          element.appendChild(docLink);\n",
              "        }\n",
              "      </script>\n",
              "    </div>\n",
              "  </div>\n",
              "  "
            ]
          },
          "metadata": {},
          "execution_count": 3
        }
      ],
      "source": [
        "file_path = os.path.join(main_path, \"clinical_trials_data/updated/clinical_trials_interventions_rxnorm_ingredients_no_drug_comb.txt\")\n",
        "# file_path = \"clinical_trials_interventions_rxnorm_ingredients_no_drug_comb.txt\"\n",
        "df_drugs =  pd.read_csv(file_path,  on_bad_lines='skip', sep=\"\\t\")\n",
        "df_drugs = df_drugs.drop_duplicates(subset=[\"nct_id\", \"intervention_mesh_code\"])\n",
        "df_drugs = df_drugs.reset_index(drop=True)\n",
        "df_drugs.head(3)"
      ]
    },
    {
      "cell_type": "markdown",
      "source": [
        "#####Clinical_trial-Conditions"
      ],
      "metadata": {
        "id": "AfS8w9RGZNzN"
      },
      "id": "AfS8w9RGZNzN"
    },
    {
      "cell_type": "code",
      "execution_count": null,
      "id": "0bc4cd9e",
      "metadata": {
        "scrolled": true,
        "colab": {
          "base_uri": "https://localhost:8080/",
          "height": 143
        },
        "id": "0bc4cd9e",
        "outputId": "76485c89-ee7d-4e13-b1f0-c9ec22557c05"
      },
      "outputs": [
        {
          "output_type": "execute_result",
          "data": {
            "text/plain": [
              "        nct_id        condition_mesh_term condition_mesh_code  \\\n",
              "0  NCT02248428           multiple myeloma             D009101   \n",
              "1  NCT02248428     neoplasms, plasma cell             D054219   \n",
              "2  NCT02248454  diabetes mellitus, type 1             D003922   \n",
              "\n",
              "   condition_snomedct_code                            condition_snomedct_term  \n",
              "0                 94705007                                   Multiple myeloma  \n",
              "1                127580003                  Plasma cell neoplasm (morphology)  \n",
              "2                190322003  Diabetes mellitus: [juvenile type, with no men...  "
            ],
            "text/html": [
              "\n",
              "  <div id=\"df-27e72557-778e-43b7-b60d-d05900dadd2f\">\n",
              "    <div class=\"colab-df-container\">\n",
              "      <div>\n",
              "<style scoped>\n",
              "    .dataframe tbody tr th:only-of-type {\n",
              "        vertical-align: middle;\n",
              "    }\n",
              "\n",
              "    .dataframe tbody tr th {\n",
              "        vertical-align: top;\n",
              "    }\n",
              "\n",
              "    .dataframe thead th {\n",
              "        text-align: right;\n",
              "    }\n",
              "</style>\n",
              "<table border=\"1\" class=\"dataframe\">\n",
              "  <thead>\n",
              "    <tr style=\"text-align: right;\">\n",
              "      <th></th>\n",
              "      <th>nct_id</th>\n",
              "      <th>condition_mesh_term</th>\n",
              "      <th>condition_mesh_code</th>\n",
              "      <th>condition_snomedct_code</th>\n",
              "      <th>condition_snomedct_term</th>\n",
              "    </tr>\n",
              "  </thead>\n",
              "  <tbody>\n",
              "    <tr>\n",
              "      <th>0</th>\n",
              "      <td>NCT02248428</td>\n",
              "      <td>multiple myeloma</td>\n",
              "      <td>D009101</td>\n",
              "      <td>94705007</td>\n",
              "      <td>Multiple myeloma</td>\n",
              "    </tr>\n",
              "    <tr>\n",
              "      <th>1</th>\n",
              "      <td>NCT02248428</td>\n",
              "      <td>neoplasms, plasma cell</td>\n",
              "      <td>D054219</td>\n",
              "      <td>127580003</td>\n",
              "      <td>Plasma cell neoplasm (morphology)</td>\n",
              "    </tr>\n",
              "    <tr>\n",
              "      <th>2</th>\n",
              "      <td>NCT02248454</td>\n",
              "      <td>diabetes mellitus, type 1</td>\n",
              "      <td>D003922</td>\n",
              "      <td>190322003</td>\n",
              "      <td>Diabetes mellitus: [juvenile type, with no men...</td>\n",
              "    </tr>\n",
              "  </tbody>\n",
              "</table>\n",
              "</div>\n",
              "      <button class=\"colab-df-convert\" onclick=\"convertToInteractive('df-27e72557-778e-43b7-b60d-d05900dadd2f')\"\n",
              "              title=\"Convert this dataframe to an interactive table.\"\n",
              "              style=\"display:none;\">\n",
              "        \n",
              "  <svg xmlns=\"http://www.w3.org/2000/svg\" height=\"24px\"viewBox=\"0 0 24 24\"\n",
              "       width=\"24px\">\n",
              "    <path d=\"M0 0h24v24H0V0z\" fill=\"none\"/>\n",
              "    <path d=\"M18.56 5.44l.94 2.06.94-2.06 2.06-.94-2.06-.94-.94-2.06-.94 2.06-2.06.94zm-11 1L8.5 8.5l.94-2.06 2.06-.94-2.06-.94L8.5 2.5l-.94 2.06-2.06.94zm10 10l.94 2.06.94-2.06 2.06-.94-2.06-.94-.94-2.06-.94 2.06-2.06.94z\"/><path d=\"M17.41 7.96l-1.37-1.37c-.4-.4-.92-.59-1.43-.59-.52 0-1.04.2-1.43.59L10.3 9.45l-7.72 7.72c-.78.78-.78 2.05 0 2.83L4 21.41c.39.39.9.59 1.41.59.51 0 1.02-.2 1.41-.59l7.78-7.78 2.81-2.81c.8-.78.8-2.07 0-2.86zM5.41 20L4 18.59l7.72-7.72 1.47 1.35L5.41 20z\"/>\n",
              "  </svg>\n",
              "      </button>\n",
              "      \n",
              "  <style>\n",
              "    .colab-df-container {\n",
              "      display:flex;\n",
              "      flex-wrap:wrap;\n",
              "      gap: 12px;\n",
              "    }\n",
              "\n",
              "    .colab-df-convert {\n",
              "      background-color: #E8F0FE;\n",
              "      border: none;\n",
              "      border-radius: 50%;\n",
              "      cursor: pointer;\n",
              "      display: none;\n",
              "      fill: #1967D2;\n",
              "      height: 32px;\n",
              "      padding: 0 0 0 0;\n",
              "      width: 32px;\n",
              "    }\n",
              "\n",
              "    .colab-df-convert:hover {\n",
              "      background-color: #E2EBFA;\n",
              "      box-shadow: 0px 1px 2px rgba(60, 64, 67, 0.3), 0px 1px 3px 1px rgba(60, 64, 67, 0.15);\n",
              "      fill: #174EA6;\n",
              "    }\n",
              "\n",
              "    [theme=dark] .colab-df-convert {\n",
              "      background-color: #3B4455;\n",
              "      fill: #D2E3FC;\n",
              "    }\n",
              "\n",
              "    [theme=dark] .colab-df-convert:hover {\n",
              "      background-color: #434B5C;\n",
              "      box-shadow: 0px 1px 3px 1px rgba(0, 0, 0, 0.15);\n",
              "      filter: drop-shadow(0px 1px 2px rgba(0, 0, 0, 0.3));\n",
              "      fill: #FFFFFF;\n",
              "    }\n",
              "  </style>\n",
              "\n",
              "      <script>\n",
              "        const buttonEl =\n",
              "          document.querySelector('#df-27e72557-778e-43b7-b60d-d05900dadd2f button.colab-df-convert');\n",
              "        buttonEl.style.display =\n",
              "          google.colab.kernel.accessAllowed ? 'block' : 'none';\n",
              "\n",
              "        async function convertToInteractive(key) {\n",
              "          const element = document.querySelector('#df-27e72557-778e-43b7-b60d-d05900dadd2f');\n",
              "          const dataTable =\n",
              "            await google.colab.kernel.invokeFunction('convertToInteractive',\n",
              "                                                     [key], {});\n",
              "          if (!dataTable) return;\n",
              "\n",
              "          const docLinkHtml = 'Like what you see? Visit the ' +\n",
              "            '<a target=\"_blank\" href=https://colab.research.google.com/notebooks/data_table.ipynb>data table notebook</a>'\n",
              "            + ' to learn more about interactive tables.';\n",
              "          element.innerHTML = '';\n",
              "          dataTable['output_type'] = 'display_data';\n",
              "          await google.colab.output.renderOutput(dataTable, element);\n",
              "          const docLink = document.createElement('div');\n",
              "          docLink.innerHTML = docLinkHtml;\n",
              "          element.appendChild(docLink);\n",
              "        }\n",
              "      </script>\n",
              "    </div>\n",
              "  </div>\n",
              "  "
            ]
          },
          "metadata": {},
          "execution_count": 4
        }
      ],
      "source": [
        "file_path = os.path.join(main_path, \"clinical_trials_data/updated/clinical_trials_conditions_snomedct.txt\")\n",
        "# file_path = \"clinical_trials_conditions_snomedct.txt\"\n",
        "df_cond =  pd.read_csv(file_path,  on_bad_lines='skip', sep=\"\\t\")\n",
        "df_cond = df_cond.drop_duplicates(subset=[\"nct_id\", \"condition_mesh_code\"])\n",
        "df_cond = df_cond.reset_index(drop=True)\n",
        "df_cond.head(3)"
      ]
    },
    {
      "cell_type": "markdown",
      "id": "cb1288f1",
      "metadata": {
        "id": "cb1288f1"
      },
      "source": [
        "## Map Multiple SNOMED to Primary SNOMED\n",
        "\n",
        "This section contains code to map multiple SNOMED codes of conditions to their primary code. This is because mapping from one MESH code for a condition to SNOMED creates multiple SNOMED codes for that condition. For all these SNOMED codes for a given condition we would like to map them back one SNOMED code. This can be done by using the relationship data from ATHENA that contains relationships between concept codes including SNOMED codes. The relationship \"Non-standard to Standard map (OMOP)\" will try to map multiple SNOMED codes to their primary component.\n"
      ]
    },
    {
      "cell_type": "code",
      "execution_count": null,
      "id": "e4045140",
      "metadata": {
        "id": "e4045140"
      },
      "outputs": [],
      "source": [
        "file_path = os.path.join(main_path, \"clinical_trials_data/CONCEPT.csv.bz2\")\n",
        "# file_path = \"CONCEPT.csv.bz2\"\n",
        "concept =  pd.read_csv(file_path,  on_bad_lines='skip', sep=\"\\t\")\n",
        "concept = concept[['concept_id', 'concept_name', 'concept_code' ]]"
      ]
    },
    {
      "cell_type": "code",
      "execution_count": null,
      "id": "5faffa2d",
      "metadata": {
        "id": "5faffa2d"
      },
      "outputs": [],
      "source": [
        "snomed_conds = df_cond[['condition_snomedct_code', 'condition_snomedct_term']]\n",
        "# snomed_conds['condition_snomedct_code'] = snomed_conds['condition_snomedct_code'].astype(str)\n",
        "temp = snomed_conds.merge(concept, left_on='condition_snomedct_code', right_on = 'concept_code')\n",
        "temp = temp.drop_duplicates(subset = temp.columns)"
      ]
    },
    {
      "cell_type": "code",
      "execution_count": null,
      "id": "21c17d11",
      "metadata": {
        "id": "21c17d11"
      },
      "outputs": [],
      "source": [
        "file_path = os.path.join(main_path, \"clinical_trials_data/CONCEPT_RELATIONSHIP.csv.bz2\")\n",
        "# file_path = \"CONCEPT_RELATIONSHIP.csv.bz2\"\n",
        "rel =  pd.read_csv(file_path,  on_bad_lines='skip', sep=\"\\t\")[['concept_id_1', 'concept_id_2', 'relationship_id']]"
      ]
    },
    {
      "cell_type": "markdown",
      "id": "474cd286",
      "metadata": {
        "id": "474cd286"
      },
      "source": [
        "## Get Drug Features from DRKG\n",
        "Most of the drugs in DRKG have ids that belong to Drugbank. Given that we have drugs in either MESH or RxNorm format we would want to first map RxNorm/MESH to Drugbank. The file \"clinical_trials_data/updated/[all_drugs]_drugbankid_to_rxnorm.txt\" contains mapping between Drugbank and RxNorm. Once we map the ids we can then use Drugbank ids for the drugs in our CT project to get their get features from DRKG."
      ]
    },
    {
      "cell_type": "code",
      "execution_count": null,
      "id": "cd9879f1",
      "metadata": {
        "id": "cd9879f1"
      },
      "outputs": [],
      "source": [
        "# load Drugbank-RxNorm mapping and merge datasets with CT-Drugs data\n",
        "file_path = os.path.join(main_path, \"clinical_trials_data/updated/[all_drugs]_drugbankid_to_rxnorm.txt\")\n",
        "db_rx =  pd.read_csv(file_path,  on_bad_lines='skip', sep=\"\\t\")\n",
        "merged = df_drugs.merge(db_rx, left_on = 'intervention_rxnorm_code', right_on = 'rxnorm_cui')"
      ]
    },
    {
      "cell_type": "code",
      "execution_count": null,
      "id": "13402ba2",
      "metadata": {
        "id": "13402ba2",
        "colab": {
          "base_uri": "https://localhost:8080/"
        },
        "outputId": "51d6515d-acf7-4586-b889-928a42e29fa9"
      },
      "outputs": [
        {
          "output_type": "execute_result",
          "data": {
            "text/plain": [
              "(71, 1788)"
            ]
          },
          "metadata": {},
          "execution_count": 6
        }
      ],
      "source": [
        "# Optional: Check how many drugs matched from CT-Drugs and Drugbank-RxNorm Dataset\n",
        "seta = set(list(df_drugs['intervention_rxnorm_code'].unique()))\n",
        "setb = set(list(db_rx['rxnorm_cui'].unique()))\n",
        "intersection = seta.intersection(setb)\n",
        "difference = seta.difference(setb)\n",
        "len(difference), len(intersection)\n",
        "# db_rx[db_rx['drugbank_id'] == 'DB00411'] check carbochol drug"
      ]
    },
    {
      "cell_type": "markdown",
      "id": "1505bd9f",
      "metadata": {
        "id": "1505bd9f"
      },
      "source": [
        "**Note:**\n",
        "71 Drugs from our CT-Drugs dataset did not match with the Drugbank-RxNorm dataset.\n",
        "Some unmatched Rxnorm codes could be found through first typing their names in drugank and getting their ATC codes. Then from the athena browser we can use the ATC codes to get primary rxnorm\n",
        "\n",
        "Example: RxNorm 1999 (carbachol) does not have a drugbank id. From drugank we get the ATC Code:\n",
        "N07AB01. And from there we get ATC to RxNorm/Extension primary lateral (OMOP): 1999\n",
        "\n",
        "However, instead of the ATC Code if we look at drugbank id of Cabachol (DB00411) then that matches with drugbank-rxnorm dataset and gives Carbamoylcholine with Rxnorm 1546387. But I cannot find a mapping of 1546387 to 1999 in Athena\n",
        "\n",
        "After my discussion with Panos we think this can be resolved by only working with MESH codes. That is we use MESH code from CT-Drugs data and instead of using Drugbank-RxNorm we use Drugbank-MESH. For that we will have to create a dataset form Drugbank-MESH. This can be done at later stage to ensure all unique drugs that are in the CT-Drugs data are being used."
      ]
    },
    {
      "cell_type": "markdown",
      "source": [
        "Get Entity IDs\n",
        "\n",
        "In this section, we create dictionaries for Compounds/Drugs and Dieseases/Conditions from DRKGS where the key represents the drug or condition and its values is its position in the embedding matrix that we will be used as features."
      ],
      "metadata": {
        "id": "A8agsmeS6OYL"
      },
      "id": "A8agsmeS6OYL"
    },
    {
      "cell_type": "code",
      "execution_count": null,
      "metadata": {
        "id": "idIdpHHN6OYM"
      },
      "outputs": [],
      "source": [
        "# Load dataset and get all unique entities such as Drugs, Genes, Conditions, etc that were used in the DRKG project.\n",
        "path = os.path.join(main_path, \"clinical_trials_data/entities.tsv\")\n",
        "entity_df = pd.read_csv(path, sep=\"\\t\", header=None)\n",
        "entity_unique_list = list(entity_df[0].unique())\n",
        "\n",
        "# load drug embeddings/features dataset\n",
        "path = os.path.join(main_path, \"clinical_trials_data/DRKG_TransE_l2_entity.npy\")\n",
        "drkg_embeddings = np.load(path)"
      ],
      "id": "idIdpHHN6OYM"
    },
    {
      "cell_type": "code",
      "source": [
        "\n",
        "entity_df"
      ],
      "metadata": {
        "colab": {
          "base_uri": "https://localhost:8080/",
          "height": 424
        },
        "id": "F8GfLqdLnvWV",
        "outputId": "d52f7f45-39b7-40bd-be1c-a7841c653fc2"
      },
      "id": "F8GfLqdLnvWV",
      "execution_count": null,
      "outputs": [
        {
          "output_type": "execute_result",
          "data": {
            "text/plain": [
              "                     0      1\n",
              "0           Gene::2157      0\n",
              "1           Gene::5264      1\n",
              "2           Gene::2158      2\n",
              "3           Gene::3309      3\n",
              "4          Gene::28912      4\n",
              "...                ...    ...\n",
              "97233     Gene::400359  97233\n",
              "97234     Gene::348751  97234\n",
              "97235  Gene::101928147  97235\n",
              "97236      Gene::23591  97236\n",
              "97237     Gene::729528  97237\n",
              "\n",
              "[97238 rows x 2 columns]"
            ],
            "text/html": [
              "\n",
              "  <div id=\"df-d185b61f-85d2-4422-b676-2add502def9b\">\n",
              "    <div class=\"colab-df-container\">\n",
              "      <div>\n",
              "<style scoped>\n",
              "    .dataframe tbody tr th:only-of-type {\n",
              "        vertical-align: middle;\n",
              "    }\n",
              "\n",
              "    .dataframe tbody tr th {\n",
              "        vertical-align: top;\n",
              "    }\n",
              "\n",
              "    .dataframe thead th {\n",
              "        text-align: right;\n",
              "    }\n",
              "</style>\n",
              "<table border=\"1\" class=\"dataframe\">\n",
              "  <thead>\n",
              "    <tr style=\"text-align: right;\">\n",
              "      <th></th>\n",
              "      <th>0</th>\n",
              "      <th>1</th>\n",
              "    </tr>\n",
              "  </thead>\n",
              "  <tbody>\n",
              "    <tr>\n",
              "      <th>0</th>\n",
              "      <td>Gene::2157</td>\n",
              "      <td>0</td>\n",
              "    </tr>\n",
              "    <tr>\n",
              "      <th>1</th>\n",
              "      <td>Gene::5264</td>\n",
              "      <td>1</td>\n",
              "    </tr>\n",
              "    <tr>\n",
              "      <th>2</th>\n",
              "      <td>Gene::2158</td>\n",
              "      <td>2</td>\n",
              "    </tr>\n",
              "    <tr>\n",
              "      <th>3</th>\n",
              "      <td>Gene::3309</td>\n",
              "      <td>3</td>\n",
              "    </tr>\n",
              "    <tr>\n",
              "      <th>4</th>\n",
              "      <td>Gene::28912</td>\n",
              "      <td>4</td>\n",
              "    </tr>\n",
              "    <tr>\n",
              "      <th>...</th>\n",
              "      <td>...</td>\n",
              "      <td>...</td>\n",
              "    </tr>\n",
              "    <tr>\n",
              "      <th>97233</th>\n",
              "      <td>Gene::400359</td>\n",
              "      <td>97233</td>\n",
              "    </tr>\n",
              "    <tr>\n",
              "      <th>97234</th>\n",
              "      <td>Gene::348751</td>\n",
              "      <td>97234</td>\n",
              "    </tr>\n",
              "    <tr>\n",
              "      <th>97235</th>\n",
              "      <td>Gene::101928147</td>\n",
              "      <td>97235</td>\n",
              "    </tr>\n",
              "    <tr>\n",
              "      <th>97236</th>\n",
              "      <td>Gene::23591</td>\n",
              "      <td>97236</td>\n",
              "    </tr>\n",
              "    <tr>\n",
              "      <th>97237</th>\n",
              "      <td>Gene::729528</td>\n",
              "      <td>97237</td>\n",
              "    </tr>\n",
              "  </tbody>\n",
              "</table>\n",
              "<p>97238 rows × 2 columns</p>\n",
              "</div>\n",
              "      <button class=\"colab-df-convert\" onclick=\"convertToInteractive('df-d185b61f-85d2-4422-b676-2add502def9b')\"\n",
              "              title=\"Convert this dataframe to an interactive table.\"\n",
              "              style=\"display:none;\">\n",
              "        \n",
              "  <svg xmlns=\"http://www.w3.org/2000/svg\" height=\"24px\"viewBox=\"0 0 24 24\"\n",
              "       width=\"24px\">\n",
              "    <path d=\"M0 0h24v24H0V0z\" fill=\"none\"/>\n",
              "    <path d=\"M18.56 5.44l.94 2.06.94-2.06 2.06-.94-2.06-.94-.94-2.06-.94 2.06-2.06.94zm-11 1L8.5 8.5l.94-2.06 2.06-.94-2.06-.94L8.5 2.5l-.94 2.06-2.06.94zm10 10l.94 2.06.94-2.06 2.06-.94-2.06-.94-.94-2.06-.94 2.06-2.06.94z\"/><path d=\"M17.41 7.96l-1.37-1.37c-.4-.4-.92-.59-1.43-.59-.52 0-1.04.2-1.43.59L10.3 9.45l-7.72 7.72c-.78.78-.78 2.05 0 2.83L4 21.41c.39.39.9.59 1.41.59.51 0 1.02-.2 1.41-.59l7.78-7.78 2.81-2.81c.8-.78.8-2.07 0-2.86zM5.41 20L4 18.59l7.72-7.72 1.47 1.35L5.41 20z\"/>\n",
              "  </svg>\n",
              "      </button>\n",
              "      \n",
              "  <style>\n",
              "    .colab-df-container {\n",
              "      display:flex;\n",
              "      flex-wrap:wrap;\n",
              "      gap: 12px;\n",
              "    }\n",
              "\n",
              "    .colab-df-convert {\n",
              "      background-color: #E8F0FE;\n",
              "      border: none;\n",
              "      border-radius: 50%;\n",
              "      cursor: pointer;\n",
              "      display: none;\n",
              "      fill: #1967D2;\n",
              "      height: 32px;\n",
              "      padding: 0 0 0 0;\n",
              "      width: 32px;\n",
              "    }\n",
              "\n",
              "    .colab-df-convert:hover {\n",
              "      background-color: #E2EBFA;\n",
              "      box-shadow: 0px 1px 2px rgba(60, 64, 67, 0.3), 0px 1px 3px 1px rgba(60, 64, 67, 0.15);\n",
              "      fill: #174EA6;\n",
              "    }\n",
              "\n",
              "    [theme=dark] .colab-df-convert {\n",
              "      background-color: #3B4455;\n",
              "      fill: #D2E3FC;\n",
              "    }\n",
              "\n",
              "    [theme=dark] .colab-df-convert:hover {\n",
              "      background-color: #434B5C;\n",
              "      box-shadow: 0px 1px 3px 1px rgba(0, 0, 0, 0.15);\n",
              "      filter: drop-shadow(0px 1px 2px rgba(0, 0, 0, 0.3));\n",
              "      fill: #FFFFFF;\n",
              "    }\n",
              "  </style>\n",
              "\n",
              "      <script>\n",
              "        const buttonEl =\n",
              "          document.querySelector('#df-d185b61f-85d2-4422-b676-2add502def9b button.colab-df-convert');\n",
              "        buttonEl.style.display =\n",
              "          google.colab.kernel.accessAllowed ? 'block' : 'none';\n",
              "\n",
              "        async function convertToInteractive(key) {\n",
              "          const element = document.querySelector('#df-d185b61f-85d2-4422-b676-2add502def9b');\n",
              "          const dataTable =\n",
              "            await google.colab.kernel.invokeFunction('convertToInteractive',\n",
              "                                                     [key], {});\n",
              "          if (!dataTable) return;\n",
              "\n",
              "          const docLinkHtml = 'Like what you see? Visit the ' +\n",
              "            '<a target=\"_blank\" href=https://colab.research.google.com/notebooks/data_table.ipynb>data table notebook</a>'\n",
              "            + ' to learn more about interactive tables.';\n",
              "          element.innerHTML = '';\n",
              "          dataTable['output_type'] = 'display_data';\n",
              "          await google.colab.output.renderOutput(dataTable, element);\n",
              "          const docLink = document.createElement('div');\n",
              "          docLink.innerHTML = docLinkHtml;\n",
              "          element.appendChild(docLink);\n",
              "        }\n",
              "      </script>\n",
              "    </div>\n",
              "  </div>\n",
              "  "
            ]
          },
          "metadata": {},
          "execution_count": 9
        }
      ]
    },
    {
      "cell_type": "code",
      "execution_count": null,
      "metadata": {
        "id": "oszTXTnv6OYM"
      },
      "outputs": [],
      "source": [
        "# Every entity in DRKG has a type associated with it. Below we create two dictionaries for Compound/Drugs and Disease/Condtions and store their locations/index of their features.\n",
        "compound_dict = {}\n",
        "for index, value in enumerate(entity_unique_list):\n",
        "    if \"Compound\" in value:\n",
        "        value = value.split(\"::\")[1]\n",
        "        compound_dict[value] = index\n",
        "\n",
        "disease_dict = {}\n",
        "for index, value in enumerate(entity_unique_list):\n",
        "    if \"Disease\" in value:\n",
        "        value = value.split(\"::\")[1]\n",
        "        disease_dict[value] = index"
      ],
      "id": "oszTXTnv6OYM"
    },
    {
      "cell_type": "markdown",
      "metadata": {
        "id": "K1EAxAKi6OYM"
      },
      "source": [
        "DRKG Features for Drugs in CT\n",
        "\n",
        "We match drugs from DRKG and CT-Drugs and get a list of drugs whose features we will use. In total we have 1847 drugs that matched to DRKG.\n",
        "\n",
        "Additonally some drugs in DRKG are in MESH code type as well. We will have to check how many match with our own CT-Drugs data in case we need it."
      ],
      "id": "K1EAxAKi6OYM"
    },
    {
      "cell_type": "code",
      "execution_count": null,
      "id": "adc41571",
      "metadata": {
        "id": "adc41571"
      },
      "outputs": [],
      "source": [
        "# Get unique drugs in CT_Drugs that we mapped to drugbank ids. Then filter it based on if it matches with DRKG drugs and then finally get their values/index of their features\n",
        "clinical_trial_drugbank_unique = list(merged['drugbank_id'].unique())\n",
        "values = {i:compound_dict[i] for i in clinical_trial_drugbank_unique if i in list(compound_dict.keys())}\n",
        "final_drugs_list = list(values.values())\n",
        "drug_embeddings = drkg_embeddings[final_drugs_list]\n",
        "\n",
        "# Addtional Mentioned above\n",
        "# clinical_trial_mesh_unique = list(merged['intervention_mesh_code'].unique())\n",
        "# values_mesh =  {i:compound_dict[\"MESH:\"+i] for i in clinical_trial_mesh_unique if \"MESH:\"+i in list(compound_dict.keys())}"
      ]
    },
    {
      "cell_type": "markdown",
      "id": "47ebb422",
      "metadata": {
        "id": "47ebb422"
      },
      "source": [
        "## DRKG Features for Conditions in CT\n",
        "\n",
        "We follow the same steps as above and get features for conditons that match with our CT-Conditions and DRKG dataset\n"
      ]
    },
    {
      "cell_type": "code",
      "execution_count": null,
      "id": "b5a6f159",
      "metadata": {
        "id": "b5a6f159"
      },
      "outputs": [],
      "source": [
        "unique_conditions_mesh = list(df_cond['condition_mesh_code'].unique())\n",
        "condition_mesh_dict =  {i:disease_dict[\"MESH:\"+i] for i in unique_conditions_mesh if \"MESH:\"+i in list(disease_dict.keys())}\n",
        "final_condition_list = list(condition_mesh_dict.values())\n",
        "cond_embeddings = drkg_embeddings[final_condition_list]#get drug embeddings"
      ]
    },
    {
      "cell_type": "markdown",
      "id": "f1fd21cf",
      "metadata": {
        "id": "f1fd21cf"
      },
      "source": [
        "## CT-Cond and CT-Drug Edges\n",
        "In this section we create dataframes between CT-condition and CT-Drugs that will serve as edges to the Graph Data Object in PyG\n",
        "\n",
        "First we create a dataframe CT-Condition with 2 columns where each row indicates that the value in Column 1 is connect to Value in Column 2. Next we filter the dataset with conditions that are in DRKG. Next, for every trial and cond codes we also assign an indicator to the code such for clinical trial \"NCT02248428\" we add \"trial_\" to make it \"trial_NCT02248428\". This can help us later in identifying the String codes once we map them to Integers.\n",
        "\n",
        "The edge between clinical trial and drugs also follow the same steps as above."
      ]
    },
    {
      "cell_type": "code",
      "execution_count": null,
      "id": "6b227fd6",
      "metadata": {
        "id": "6b227fd6"
      },
      "outputs": [],
      "source": [
        "trial_cond = df_cond[['nct_id', 'condition_mesh_code']] # select only trial and condition\n",
        "trial_cond = trial_cond.rename(columns= {'nct_id':'id1','condition_mesh_code':'id2'})\n",
        "trial_cond['type'] = \"trial_cond\"\n",
        "\n",
        "final_condition_mesh_code = list(condition_mesh_dict.keys())\n",
        "trial_cond = trial_cond[trial_cond['id2'].isin(final_condition_mesh_code)]\n",
        "\n",
        "trial_cond['id1'] = trial_cond['id1'].apply(lambda x: \"trial_\" + x)\n",
        "trial_cond['id2'] = trial_cond['id2'].apply(lambda x: \"cond_\" + x)\n",
        "\n",
        "trial_drug = merged[['nct_id', 'drugbank_id']]\n",
        "trial_drug = trial_drug.rename(columns= {'nct_id':'id1','drugbank_id':'id2'})\n",
        "trial_drug['type'] = \"trial_drug\"\n",
        "\n",
        "final_condition_mesh_code = list(values.keys())\n",
        "trial_drug = trial_drug[trial_drug['id2'].isin(final_condition_mesh_code)]\n",
        "\n",
        "trial_drug['id1'] = trial_drug['id1'].apply(lambda x: \"trial_\" + x)\n",
        "trial_drug['id2'] = trial_drug['id2'].apply(lambda x: \"drug_\" + x)"
      ]
    },
    {
      "cell_type": "markdown",
      "id": "7426a210",
      "metadata": {
        "id": "7426a210"
      },
      "source": [
        "\n",
        "\n",
        "```\n",
        "# This is formatted as code\n",
        "```\n",
        "\n",
        "## Approved Drugs"
      ]
    },
    {
      "cell_type": "code",
      "execution_count": null,
      "id": "41ded093",
      "metadata": {
        "id": "41ded093"
      },
      "outputs": [],
      "source": [
        "# file_path = os.path.join(\"/project/uml_rachel_melamed/Panos/Mendelian_diseases_2/mamoon_project/data/updated\", \"[approved_drugs]_indications_snomedct.txt\")\n",
        "# df_drug_cond =  pd.read_csv(file_path,  on_bad_lines='skip', sep=\"\\t\")\n",
        "# df_drug_cond = df_drug_cond.drop_duplicates(subset=[\"nct_id\", \"condition_mesh_code\"])\n",
        "# df_drug_cond = df_drug_cond.reset_index(drop=True)\n",
        "# df_drug_cond.head(3)"
      ]
    },
    {
      "cell_type": "markdown",
      "id": "916b155d",
      "metadata": {
        "id": "916b155d"
      },
      "source": [
        "# Create Graph Data"
      ]
    },
    {
      "cell_type": "code",
      "execution_count": null,
      "id": "9745b4bc",
      "metadata": {
        "colab": {
          "base_uri": "https://localhost:8080/"
        },
        "id": "9745b4bc",
        "outputId": "a0be180a-d54d-43cd-b6dc-2e0c1a9525fa"
      },
      "outputs": [
        {
          "output_type": "execute_result",
          "data": {
            "text/plain": [
              "(412501, 3)"
            ]
          },
          "metadata": {},
          "execution_count": 16
        }
      ],
      "source": [
        "df_final = pd.concat([trial_cond, trial_drug])\n",
        "df_final = df_final.drop_duplicates(subset=['id1', 'id2'])\n",
        "df_final = df_final.reset_index(drop=True)\n",
        "# unique_trials = list(df_final['id1'].unique())\n",
        "# df_final = df_final[df_final[\"id1\"].isin(unique_trials[:3000])]\n",
        "df_final.shape"
      ]
    },
    {
      "cell_type": "code",
      "source": [
        "\n",
        "df_final.head()"
      ],
      "metadata": {
        "colab": {
          "base_uri": "https://localhost:8080/",
          "height": 206
        },
        "id": "yMMCsAu7MA9A",
        "outputId": "7848800d-d695-478a-d2ac-9e3d585cf9f1"
      },
      "id": "yMMCsAu7MA9A",
      "execution_count": null,
      "outputs": [
        {
          "output_type": "execute_result",
          "data": {
            "text/plain": [
              "                 id1           id2        type\n",
              "0  trial_NCT02248428  cond_D009101  trial_cond\n",
              "1  trial_NCT02248428  cond_D054219  trial_cond\n",
              "2  trial_NCT02248454  cond_D003922  trial_cond\n",
              "3  trial_NCT02248493  cond_D010149  trial_cond\n",
              "4  trial_NCT05354076  cond_D009369  trial_cond"
            ],
            "text/html": [
              "\n",
              "  <div id=\"df-786edccf-2ca8-418c-a9d2-f52e4384a2b5\">\n",
              "    <div class=\"colab-df-container\">\n",
              "      <div>\n",
              "<style scoped>\n",
              "    .dataframe tbody tr th:only-of-type {\n",
              "        vertical-align: middle;\n",
              "    }\n",
              "\n",
              "    .dataframe tbody tr th {\n",
              "        vertical-align: top;\n",
              "    }\n",
              "\n",
              "    .dataframe thead th {\n",
              "        text-align: right;\n",
              "    }\n",
              "</style>\n",
              "<table border=\"1\" class=\"dataframe\">\n",
              "  <thead>\n",
              "    <tr style=\"text-align: right;\">\n",
              "      <th></th>\n",
              "      <th>id1</th>\n",
              "      <th>id2</th>\n",
              "      <th>type</th>\n",
              "    </tr>\n",
              "  </thead>\n",
              "  <tbody>\n",
              "    <tr>\n",
              "      <th>0</th>\n",
              "      <td>trial_NCT02248428</td>\n",
              "      <td>cond_D009101</td>\n",
              "      <td>trial_cond</td>\n",
              "    </tr>\n",
              "    <tr>\n",
              "      <th>1</th>\n",
              "      <td>trial_NCT02248428</td>\n",
              "      <td>cond_D054219</td>\n",
              "      <td>trial_cond</td>\n",
              "    </tr>\n",
              "    <tr>\n",
              "      <th>2</th>\n",
              "      <td>trial_NCT02248454</td>\n",
              "      <td>cond_D003922</td>\n",
              "      <td>trial_cond</td>\n",
              "    </tr>\n",
              "    <tr>\n",
              "      <th>3</th>\n",
              "      <td>trial_NCT02248493</td>\n",
              "      <td>cond_D010149</td>\n",
              "      <td>trial_cond</td>\n",
              "    </tr>\n",
              "    <tr>\n",
              "      <th>4</th>\n",
              "      <td>trial_NCT05354076</td>\n",
              "      <td>cond_D009369</td>\n",
              "      <td>trial_cond</td>\n",
              "    </tr>\n",
              "  </tbody>\n",
              "</table>\n",
              "</div>\n",
              "      <button class=\"colab-df-convert\" onclick=\"convertToInteractive('df-786edccf-2ca8-418c-a9d2-f52e4384a2b5')\"\n",
              "              title=\"Convert this dataframe to an interactive table.\"\n",
              "              style=\"display:none;\">\n",
              "        \n",
              "  <svg xmlns=\"http://www.w3.org/2000/svg\" height=\"24px\"viewBox=\"0 0 24 24\"\n",
              "       width=\"24px\">\n",
              "    <path d=\"M0 0h24v24H0V0z\" fill=\"none\"/>\n",
              "    <path d=\"M18.56 5.44l.94 2.06.94-2.06 2.06-.94-2.06-.94-.94-2.06-.94 2.06-2.06.94zm-11 1L8.5 8.5l.94-2.06 2.06-.94-2.06-.94L8.5 2.5l-.94 2.06-2.06.94zm10 10l.94 2.06.94-2.06 2.06-.94-2.06-.94-.94-2.06-.94 2.06-2.06.94z\"/><path d=\"M17.41 7.96l-1.37-1.37c-.4-.4-.92-.59-1.43-.59-.52 0-1.04.2-1.43.59L10.3 9.45l-7.72 7.72c-.78.78-.78 2.05 0 2.83L4 21.41c.39.39.9.59 1.41.59.51 0 1.02-.2 1.41-.59l7.78-7.78 2.81-2.81c.8-.78.8-2.07 0-2.86zM5.41 20L4 18.59l7.72-7.72 1.47 1.35L5.41 20z\"/>\n",
              "  </svg>\n",
              "      </button>\n",
              "      \n",
              "  <style>\n",
              "    .colab-df-container {\n",
              "      display:flex;\n",
              "      flex-wrap:wrap;\n",
              "      gap: 12px;\n",
              "    }\n",
              "\n",
              "    .colab-df-convert {\n",
              "      background-color: #E8F0FE;\n",
              "      border: none;\n",
              "      border-radius: 50%;\n",
              "      cursor: pointer;\n",
              "      display: none;\n",
              "      fill: #1967D2;\n",
              "      height: 32px;\n",
              "      padding: 0 0 0 0;\n",
              "      width: 32px;\n",
              "    }\n",
              "\n",
              "    .colab-df-convert:hover {\n",
              "      background-color: #E2EBFA;\n",
              "      box-shadow: 0px 1px 2px rgba(60, 64, 67, 0.3), 0px 1px 3px 1px rgba(60, 64, 67, 0.15);\n",
              "      fill: #174EA6;\n",
              "    }\n",
              "\n",
              "    [theme=dark] .colab-df-convert {\n",
              "      background-color: #3B4455;\n",
              "      fill: #D2E3FC;\n",
              "    }\n",
              "\n",
              "    [theme=dark] .colab-df-convert:hover {\n",
              "      background-color: #434B5C;\n",
              "      box-shadow: 0px 1px 3px 1px rgba(0, 0, 0, 0.15);\n",
              "      filter: drop-shadow(0px 1px 2px rgba(0, 0, 0, 0.3));\n",
              "      fill: #FFFFFF;\n",
              "    }\n",
              "  </style>\n",
              "\n",
              "      <script>\n",
              "        const buttonEl =\n",
              "          document.querySelector('#df-786edccf-2ca8-418c-a9d2-f52e4384a2b5 button.colab-df-convert');\n",
              "        buttonEl.style.display =\n",
              "          google.colab.kernel.accessAllowed ? 'block' : 'none';\n",
              "\n",
              "        async function convertToInteractive(key) {\n",
              "          const element = document.querySelector('#df-786edccf-2ca8-418c-a9d2-f52e4384a2b5');\n",
              "          const dataTable =\n",
              "            await google.colab.kernel.invokeFunction('convertToInteractive',\n",
              "                                                     [key], {});\n",
              "          if (!dataTable) return;\n",
              "\n",
              "          const docLinkHtml = 'Like what you see? Visit the ' +\n",
              "            '<a target=\"_blank\" href=https://colab.research.google.com/notebooks/data_table.ipynb>data table notebook</a>'\n",
              "            + ' to learn more about interactive tables.';\n",
              "          element.innerHTML = '';\n",
              "          dataTable['output_type'] = 'display_data';\n",
              "          await google.colab.output.renderOutput(dataTable, element);\n",
              "          const docLink = document.createElement('div');\n",
              "          docLink.innerHTML = docLinkHtml;\n",
              "          element.appendChild(docLink);\n",
              "        }\n",
              "      </script>\n",
              "    </div>\n",
              "  </div>\n",
              "  "
            ]
          },
          "metadata": {},
          "execution_count": 20
        }
      ]
    },
    {
      "cell_type": "markdown",
      "metadata": {
        "id": "CD1MJYCioEP1"
      },
      "source": [
        "## Get features from attributes of clinical trials"
      ],
      "id": "CD1MJYCioEP1"
    },
    {
      "cell_type": "code",
      "execution_count": null,
      "metadata": {
        "id": "PVzLLAmKoEP2"
      },
      "outputs": [],
      "source": [
        "# aact_attr = pd.read_csv(\"/project/uml_rachel_melamed/ref_data/AACT/studies.txt\", sep=\"|\")\n",
        "path = os.path.join(main_path, \"clinical_trials_data/updated/studies.txt\")\n",
        "aact_attr = pd.read_csv(path, sep=\"|\")"
      ],
      "id": "PVzLLAmKoEP2"
    },
    {
      "cell_type": "code",
      "source": [
        "unique_trials = list(df_final['id1'].apply(lambda x: x.split(\"_\")[1]).unique()) #get unique trials\n",
        "trials_df = aact_attr[aact_attr['nct_id'].isin(unique_trials)] #filter our trials with main data\n",
        "trials_df = trials_df[['nct_id','phase']]\n",
        "trials_df = trials_df.reset_index(drop=True)\n",
        "trials_df = pd.get_dummies(trials_df, columns = [\"phase\"])#create one-hot features for phase\n",
        "trials_np = np.pad(trials_df.values, ((0,0), (0,400-8)))#pad to match shape of drug and cond features\n",
        "trials_df = pd.DataFrame(trials_np)\n",
        "trials_df = trials_df.set_index(0)\n",
        "\n",
        "del aact_attr"
      ],
      "metadata": {
        "id": "lbj38bs4oEP2"
      },
      "execution_count": null,
      "outputs": [],
      "id": "lbj38bs4oEP2"
    },
    {
      "cell_type": "markdown",
      "source": [
        "Label Encoding to create node ids"
      ],
      "metadata": {
        "id": "huKaj9aF4EkC"
      },
      "id": "huKaj9aF4EkC"
    },
    {
      "cell_type": "code",
      "execution_count": null,
      "id": "97129289",
      "metadata": {
        "id": "97129289"
      },
      "outputs": [],
      "source": [
        "from sklearn.preprocessing import LabelEncoder\n",
        "\n",
        "df_final['id1'] = df_final['id1'].astype('str')\n",
        "df_final['id2'] = df_final['id2'].astype('str')\n",
        "\n",
        "le=LabelEncoder()\n",
        "le.fit(np.concatenate((df_final['id1'], df_final['id2'])))\n",
        "\n",
        "df_graph = df_final.copy()\n",
        "df_graph['id_1']=le.transform(df_final['id1'])\n",
        "df_graph['id_2']=le.transform(df_final['id2'])\n",
        "df_graph = df_graph[['id_1', 'id_2', 'type']]"
      ]
    },
    {
      "cell_type": "code",
      "source": [
        "\n",
        "df_graph"
      ],
      "metadata": {
        "colab": {
          "base_uri": "https://localhost:8080/",
          "height": 424
        },
        "id": "Mvt9-fnfMxFL",
        "outputId": "777096e9-4fad-44a7-d2c4-2cda4a756b04"
      },
      "id": "Mvt9-fnfMxFL",
      "execution_count": null,
      "outputs": [
        {
          "output_type": "execute_result",
          "data": {
            "text/plain": [
              "          id_1  id_2        type\n",
              "0        66312  1043  trial_cond\n",
              "1        66312  2342  trial_cond\n",
              "2        66313   422  trial_cond\n",
              "3        66315  1180  trial_cond\n",
              "4       110712  1092  trial_cond\n",
              "...        ...   ...         ...\n",
              "412496   86163  2762  trial_drug\n",
              "412497  107095  3776  trial_drug\n",
              "412498  107050  3761  trial_drug\n",
              "412499   36940  4104  trial_drug\n",
              "412500   37037  4200  trial_drug\n",
              "\n",
              "[412501 rows x 3 columns]"
            ],
            "text/html": [
              "\n",
              "  <div id=\"df-772ee059-a7b8-4ad5-a71f-a9946762a306\">\n",
              "    <div class=\"colab-df-container\">\n",
              "      <div>\n",
              "<style scoped>\n",
              "    .dataframe tbody tr th:only-of-type {\n",
              "        vertical-align: middle;\n",
              "    }\n",
              "\n",
              "    .dataframe tbody tr th {\n",
              "        vertical-align: top;\n",
              "    }\n",
              "\n",
              "    .dataframe thead th {\n",
              "        text-align: right;\n",
              "    }\n",
              "</style>\n",
              "<table border=\"1\" class=\"dataframe\">\n",
              "  <thead>\n",
              "    <tr style=\"text-align: right;\">\n",
              "      <th></th>\n",
              "      <th>id_1</th>\n",
              "      <th>id_2</th>\n",
              "      <th>type</th>\n",
              "    </tr>\n",
              "  </thead>\n",
              "  <tbody>\n",
              "    <tr>\n",
              "      <th>0</th>\n",
              "      <td>66312</td>\n",
              "      <td>1043</td>\n",
              "      <td>trial_cond</td>\n",
              "    </tr>\n",
              "    <tr>\n",
              "      <th>1</th>\n",
              "      <td>66312</td>\n",
              "      <td>2342</td>\n",
              "      <td>trial_cond</td>\n",
              "    </tr>\n",
              "    <tr>\n",
              "      <th>2</th>\n",
              "      <td>66313</td>\n",
              "      <td>422</td>\n",
              "      <td>trial_cond</td>\n",
              "    </tr>\n",
              "    <tr>\n",
              "      <th>3</th>\n",
              "      <td>66315</td>\n",
              "      <td>1180</td>\n",
              "      <td>trial_cond</td>\n",
              "    </tr>\n",
              "    <tr>\n",
              "      <th>4</th>\n",
              "      <td>110712</td>\n",
              "      <td>1092</td>\n",
              "      <td>trial_cond</td>\n",
              "    </tr>\n",
              "    <tr>\n",
              "      <th>...</th>\n",
              "      <td>...</td>\n",
              "      <td>...</td>\n",
              "      <td>...</td>\n",
              "    </tr>\n",
              "    <tr>\n",
              "      <th>412496</th>\n",
              "      <td>86163</td>\n",
              "      <td>2762</td>\n",
              "      <td>trial_drug</td>\n",
              "    </tr>\n",
              "    <tr>\n",
              "      <th>412497</th>\n",
              "      <td>107095</td>\n",
              "      <td>3776</td>\n",
              "      <td>trial_drug</td>\n",
              "    </tr>\n",
              "    <tr>\n",
              "      <th>412498</th>\n",
              "      <td>107050</td>\n",
              "      <td>3761</td>\n",
              "      <td>trial_drug</td>\n",
              "    </tr>\n",
              "    <tr>\n",
              "      <th>412499</th>\n",
              "      <td>36940</td>\n",
              "      <td>4104</td>\n",
              "      <td>trial_drug</td>\n",
              "    </tr>\n",
              "    <tr>\n",
              "      <th>412500</th>\n",
              "      <td>37037</td>\n",
              "      <td>4200</td>\n",
              "      <td>trial_drug</td>\n",
              "    </tr>\n",
              "  </tbody>\n",
              "</table>\n",
              "<p>412501 rows × 3 columns</p>\n",
              "</div>\n",
              "      <button class=\"colab-df-convert\" onclick=\"convertToInteractive('df-772ee059-a7b8-4ad5-a71f-a9946762a306')\"\n",
              "              title=\"Convert this dataframe to an interactive table.\"\n",
              "              style=\"display:none;\">\n",
              "        \n",
              "  <svg xmlns=\"http://www.w3.org/2000/svg\" height=\"24px\"viewBox=\"0 0 24 24\"\n",
              "       width=\"24px\">\n",
              "    <path d=\"M0 0h24v24H0V0z\" fill=\"none\"/>\n",
              "    <path d=\"M18.56 5.44l.94 2.06.94-2.06 2.06-.94-2.06-.94-.94-2.06-.94 2.06-2.06.94zm-11 1L8.5 8.5l.94-2.06 2.06-.94-2.06-.94L8.5 2.5l-.94 2.06-2.06.94zm10 10l.94 2.06.94-2.06 2.06-.94-2.06-.94-.94-2.06-.94 2.06-2.06.94z\"/><path d=\"M17.41 7.96l-1.37-1.37c-.4-.4-.92-.59-1.43-.59-.52 0-1.04.2-1.43.59L10.3 9.45l-7.72 7.72c-.78.78-.78 2.05 0 2.83L4 21.41c.39.39.9.59 1.41.59.51 0 1.02-.2 1.41-.59l7.78-7.78 2.81-2.81c.8-.78.8-2.07 0-2.86zM5.41 20L4 18.59l7.72-7.72 1.47 1.35L5.41 20z\"/>\n",
              "  </svg>\n",
              "      </button>\n",
              "      \n",
              "  <style>\n",
              "    .colab-df-container {\n",
              "      display:flex;\n",
              "      flex-wrap:wrap;\n",
              "      gap: 12px;\n",
              "    }\n",
              "\n",
              "    .colab-df-convert {\n",
              "      background-color: #E8F0FE;\n",
              "      border: none;\n",
              "      border-radius: 50%;\n",
              "      cursor: pointer;\n",
              "      display: none;\n",
              "      fill: #1967D2;\n",
              "      height: 32px;\n",
              "      padding: 0 0 0 0;\n",
              "      width: 32px;\n",
              "    }\n",
              "\n",
              "    .colab-df-convert:hover {\n",
              "      background-color: #E2EBFA;\n",
              "      box-shadow: 0px 1px 2px rgba(60, 64, 67, 0.3), 0px 1px 3px 1px rgba(60, 64, 67, 0.15);\n",
              "      fill: #174EA6;\n",
              "    }\n",
              "\n",
              "    [theme=dark] .colab-df-convert {\n",
              "      background-color: #3B4455;\n",
              "      fill: #D2E3FC;\n",
              "    }\n",
              "\n",
              "    [theme=dark] .colab-df-convert:hover {\n",
              "      background-color: #434B5C;\n",
              "      box-shadow: 0px 1px 3px 1px rgba(0, 0, 0, 0.15);\n",
              "      filter: drop-shadow(0px 1px 2px rgba(0, 0, 0, 0.3));\n",
              "      fill: #FFFFFF;\n",
              "    }\n",
              "  </style>\n",
              "\n",
              "      <script>\n",
              "        const buttonEl =\n",
              "          document.querySelector('#df-772ee059-a7b8-4ad5-a71f-a9946762a306 button.colab-df-convert');\n",
              "        buttonEl.style.display =\n",
              "          google.colab.kernel.accessAllowed ? 'block' : 'none';\n",
              "\n",
              "        async function convertToInteractive(key) {\n",
              "          const element = document.querySelector('#df-772ee059-a7b8-4ad5-a71f-a9946762a306');\n",
              "          const dataTable =\n",
              "            await google.colab.kernel.invokeFunction('convertToInteractive',\n",
              "                                                     [key], {});\n",
              "          if (!dataTable) return;\n",
              "\n",
              "          const docLinkHtml = 'Like what you see? Visit the ' +\n",
              "            '<a target=\"_blank\" href=https://colab.research.google.com/notebooks/data_table.ipynb>data table notebook</a>'\n",
              "            + ' to learn more about interactive tables.';\n",
              "          element.innerHTML = '';\n",
              "          dataTable['output_type'] = 'display_data';\n",
              "          await google.colab.output.renderOutput(dataTable, element);\n",
              "          const docLink = document.createElement('div');\n",
              "          docLink.innerHTML = docLinkHtml;\n",
              "          element.appendChild(docLink);\n",
              "        }\n",
              "      </script>\n",
              "    </div>\n",
              "  </div>\n",
              "  "
            ]
          },
          "metadata": {},
          "execution_count": 24
        }
      ]
    },
    {
      "cell_type": "code",
      "source": [
        "\n",
        "# unique_trial_ids = list(df_final['id1'].unique())\n",
        "# unique_cond_ids = list(df_final[df_final[\"type\"] == 'trial_cond']['id2'].unique())\n",
        "# unique_drug_ids = list(df_final[df_final[\"type\"] == 'trial_drug']['id2'].unique())\n",
        "\n",
        "# le_trial = LabelEncoder()\n",
        "# le_trial.fit(unique_trial_ids)\n",
        "\n",
        "# le_cond = LabelEncoder()\n",
        "# le_cond.fit(unique_cond_ids)\n",
        "\n",
        "# le_drug = LabelEncoder()\n",
        "# le_drug.fit(unique_drug_ids)\n",
        "\n",
        "\n",
        "# # transform using label encoders\n",
        "# df_graph_trial_cond = df_final[df_final[\"type\"] == 'trial_cond'] #copy data and filter trial-cond\n",
        "# df_graph_trial_cond['id1'] = le_trial.transform(df_graph_trial_cond['id1']) #transform trial\n",
        "# df_graph_trial_cond['id2'] = le_cond.transform(df_graph_trial_cond['id2'] ) #transform cond\n",
        "\n",
        "# df_graph_trial_drug = df_final[df_final[\"type\"] == 'trial_drug'] #copy data and filter trial-drug\n",
        "# df_graph_trial_drug['id1'] = le_trial.transform(df_graph_trial_drug['id1']) #transform trial\n",
        "# df_graph_trial_drug['id2'] = le_cond.transform(df_graph_trial_drug['id2'] ) #transform cond\n",
        "\n",
        "\n",
        "# df_graph_trial_drug= df_final[df_final[\"type\"] == 'trial_drug']\n",
        "\n",
        "\n"
      ],
      "metadata": {
        "colab": {
          "base_uri": "https://localhost:8080/",
          "height": 75
        },
        "id": "3CYb0kfvLVVq",
        "outputId": "bacf5a3d-c4d8-4ce2-cf3f-b7e8613ff519"
      },
      "id": "3CYb0kfvLVVq",
      "execution_count": null,
      "outputs": [
        {
          "output_type": "execute_result",
          "data": {
            "text/plain": [
              "LabelEncoder()"
            ],
            "text/html": [
              "<style>#sk-container-id-1 {color: black;background-color: white;}#sk-container-id-1 pre{padding: 0;}#sk-container-id-1 div.sk-toggleable {background-color: white;}#sk-container-id-1 label.sk-toggleable__label {cursor: pointer;display: block;width: 100%;margin-bottom: 0;padding: 0.3em;box-sizing: border-box;text-align: center;}#sk-container-id-1 label.sk-toggleable__label-arrow:before {content: \"▸\";float: left;margin-right: 0.25em;color: #696969;}#sk-container-id-1 label.sk-toggleable__label-arrow:hover:before {color: black;}#sk-container-id-1 div.sk-estimator:hover label.sk-toggleable__label-arrow:before {color: black;}#sk-container-id-1 div.sk-toggleable__content {max-height: 0;max-width: 0;overflow: hidden;text-align: left;background-color: #f0f8ff;}#sk-container-id-1 div.sk-toggleable__content pre {margin: 0.2em;color: black;border-radius: 0.25em;background-color: #f0f8ff;}#sk-container-id-1 input.sk-toggleable__control:checked~div.sk-toggleable__content {max-height: 200px;max-width: 100%;overflow: auto;}#sk-container-id-1 input.sk-toggleable__control:checked~label.sk-toggleable__label-arrow:before {content: \"▾\";}#sk-container-id-1 div.sk-estimator input.sk-toggleable__control:checked~label.sk-toggleable__label {background-color: #d4ebff;}#sk-container-id-1 div.sk-label input.sk-toggleable__control:checked~label.sk-toggleable__label {background-color: #d4ebff;}#sk-container-id-1 input.sk-hidden--visually {border: 0;clip: rect(1px 1px 1px 1px);clip: rect(1px, 1px, 1px, 1px);height: 1px;margin: -1px;overflow: hidden;padding: 0;position: absolute;width: 1px;}#sk-container-id-1 div.sk-estimator {font-family: monospace;background-color: #f0f8ff;border: 1px dotted black;border-radius: 0.25em;box-sizing: border-box;margin-bottom: 0.5em;}#sk-container-id-1 div.sk-estimator:hover {background-color: #d4ebff;}#sk-container-id-1 div.sk-parallel-item::after {content: \"\";width: 100%;border-bottom: 1px solid gray;flex-grow: 1;}#sk-container-id-1 div.sk-label:hover label.sk-toggleable__label {background-color: #d4ebff;}#sk-container-id-1 div.sk-serial::before {content: \"\";position: absolute;border-left: 1px solid gray;box-sizing: border-box;top: 0;bottom: 0;left: 50%;z-index: 0;}#sk-container-id-1 div.sk-serial {display: flex;flex-direction: column;align-items: center;background-color: white;padding-right: 0.2em;padding-left: 0.2em;position: relative;}#sk-container-id-1 div.sk-item {position: relative;z-index: 1;}#sk-container-id-1 div.sk-parallel {display: flex;align-items: stretch;justify-content: center;background-color: white;position: relative;}#sk-container-id-1 div.sk-item::before, #sk-container-id-1 div.sk-parallel-item::before {content: \"\";position: absolute;border-left: 1px solid gray;box-sizing: border-box;top: 0;bottom: 0;left: 50%;z-index: -1;}#sk-container-id-1 div.sk-parallel-item {display: flex;flex-direction: column;z-index: 1;position: relative;background-color: white;}#sk-container-id-1 div.sk-parallel-item:first-child::after {align-self: flex-end;width: 50%;}#sk-container-id-1 div.sk-parallel-item:last-child::after {align-self: flex-start;width: 50%;}#sk-container-id-1 div.sk-parallel-item:only-child::after {width: 0;}#sk-container-id-1 div.sk-dashed-wrapped {border: 1px dashed gray;margin: 0 0.4em 0.5em 0.4em;box-sizing: border-box;padding-bottom: 0.4em;background-color: white;}#sk-container-id-1 div.sk-label label {font-family: monospace;font-weight: bold;display: inline-block;line-height: 1.2em;}#sk-container-id-1 div.sk-label-container {text-align: center;}#sk-container-id-1 div.sk-container {/* jupyter's `normalize.less` sets `[hidden] { display: none; }` but bootstrap.min.css set `[hidden] { display: none !important; }` so we also need the `!important` here to be able to override the default hidden behavior on the sphinx rendered scikit-learn.org. See: https://github.com/scikit-learn/scikit-learn/issues/21755 */display: inline-block !important;position: relative;}#sk-container-id-1 div.sk-text-repr-fallback {display: none;}</style><div id=\"sk-container-id-1\" class=\"sk-top-container\"><div class=\"sk-text-repr-fallback\"><pre>LabelEncoder()</pre><b>In a Jupyter environment, please rerun this cell to show the HTML representation or trust the notebook. <br />On GitHub, the HTML representation is unable to render, please try loading this page with nbviewer.org.</b></div><div class=\"sk-container\" hidden><div class=\"sk-item\"><div class=\"sk-estimator sk-toggleable\"><input class=\"sk-toggleable__control sk-hidden--visually\" id=\"sk-estimator-id-1\" type=\"checkbox\" checked><label for=\"sk-estimator-id-1\" class=\"sk-toggleable__label sk-toggleable__label-arrow\">LabelEncoder</label><div class=\"sk-toggleable__content\"><pre>LabelEncoder()</pre></div></div></div></div></div>"
            ]
          },
          "metadata": {},
          "execution_count": 64
        }
      ]
    },
    {
      "cell_type": "code",
      "source": [
        "\n",
        "# # new label encoder for hetereogeneous\n",
        "# df_trial_cond = df_final[df_final['type'] == \"trial_cond\"]\n",
        "# df_trial_cond['id1'] = df_trial_cond['id1'].astype('str')\n",
        "# df_trial_cond['id2'] = df_trial_cond['id2'].astype('str')\n",
        "\n",
        "# le_trial_cond = LabelEncoder()\n",
        "# le_trial_cond.fit(np.concatenate((df_trial_cond['id1'], df_trial_cond['id2'])))\n",
        "\n",
        "# df_graph_trial_cond = df_trial_cond.copy()\n",
        "# df_graph_trial_cond['id_1']=le_trial_cond.transform(df_graph_trial_cond['id1'])\n",
        "# df_graph_trial_cond['id_2']=le_trial_cond.transform(df_graph_trial_cond['id2'])\n",
        "# df_graph_trial_cond = df_graph_trial_cond[['id_1', 'id_2', 'type']]\n",
        "\n",
        "\n",
        "# df_trial_drug = df_final[df_final['type'] == \"trial_drug\"]\n",
        "# df_trial_drug['id1'] = df_trial_drug['id1'].astype('str')\n",
        "# df_trial_drug['id2'] = df_trial_drug['id2'].astype('str')\n",
        "\n",
        "# le_trial_drug = LabelEncoder()\n",
        "# le_trial_drug.fit(np.concatenate((df_trial_drug['id1'], df_trial_drug['id2'])))\n",
        "\n",
        "# df_graph_trial_drug = df_trial_drug.copy()\n",
        "# df_graph_trial_drug['id_1']=le_trial_drug.transform(df_graph_trial_drug['id1'])\n",
        "# df_graph_trial_drug['id_2']=le_trial_drug.transform(df_graph_trial_drug['id2'])\n",
        "# df_graph_trial_drug = df_graph_trial_drug[['id_1', 'id_2', 'type']]\n",
        "\n",
        "\n"
      ],
      "metadata": {
        "id": "qd3K3xx3e2kN"
      },
      "id": "qd3K3xx3e2kN",
      "execution_count": null,
      "outputs": []
    },
    {
      "cell_type": "code",
      "source": [
        "# homogeneous data\n",
        "\n",
        "import numpy as np\n",
        "from torch_geometric.data import Data, DataLoader\n",
        "import torch\n",
        "import scipy.sparse as sp\n",
        "from torch_geometric.utils import to_undirected\n",
        "trial_cond_edges = torch.tensor(df_graph[df_graph['type'] == \"trial_cond\"][['id_1', 'id_2']].values, dtype=torch.long)\n",
        "trial_drug_edges = torch.tensor(df_graph[df_graph['type'] == \"trial_drug\"][['id_1', 'id_2']].values, dtype=torch.long)\n",
        "\n",
        "edge_1 = torch.tensor(df_graph[['id_1', 'id_2']].values, dtype=torch.long)\n",
        "# edge_2 = torch.tensor(df_graph[['id_2', 'id_1']].values, dtype=torch.long)\n",
        "\n",
        "# edge = torch.cat((edge_1, edge_2), 0)\n",
        "\n",
        "data_hom = Data(\n",
        "            edge_index=edge_1.t().contiguous(),\n",
        "            )\n",
        "\n",
        "edge_attr_dict = {'trial_cond':0,'trial_drug':1}\n",
        "df_graph['num_type'] = df_graph['type'].apply(lambda x: edge_attr_dict[x])\n",
        "edge_attr = torch.tensor(df_graph['num_type'].values, dtype=torch.long)\n",
        "data_hom.edge_attr = edge_attr\n",
        "\n",
        "edge_unidrected, edge_attr_unidrected = to_undirected(data_hom.edge_index, data_hom.edge_attr)\n",
        "data_hom_new = Data(\n",
        "            edge_index=edge_unidrected.contiguous(),\n",
        "            edge_attr = edge_attr_unidrected.contiguous()\n",
        "            )\n"
      ],
      "metadata": {
        "id": "u5ze5HKVXQ7F"
      },
      "id": "u5ze5HKVXQ7F",
      "execution_count": null,
      "outputs": []
    },
    {
      "cell_type": "code",
      "source": [
        "\n",
        "data_hom"
      ],
      "metadata": {
        "colab": {
          "base_uri": "https://localhost:8080/"
        },
        "id": "LOlwfZ1qNK8L",
        "outputId": "66aa971f-f4b1-4e57-a1c7-281fb1030dcb"
      },
      "id": "LOlwfZ1qNK8L",
      "execution_count": null,
      "outputs": [
        {
          "output_type": "execute_result",
          "data": {
            "text/plain": [
              "Data(edge_index=[2, 412501], edge_attr=[412501])"
            ]
          },
          "metadata": {},
          "execution_count": 26
        }
      ]
    },
    {
      "cell_type": "code",
      "source": [
        "# cond_features = torch.tensor(cond_embeddings, dtype=torch.float)\n",
        "# drug_features = torch.tensor(drug_embeddings, dtype=torch.float)\n",
        "# trial_features = torch.tensor(np.random.rand(109356, 2), dtype=torch.float)\n",
        "# trial_features = F.pad(trial_features, (0, 400-2))\n",
        "\n",
        "# x = torch.cat([cond_features, drug_features, trial_features], dim=0)\n",
        "# x = x.numpy()\n"
      ],
      "metadata": {
        "id": "pUk9-eb9TS4w"
      },
      "id": "pUk9-eb9TS4w",
      "execution_count": null,
      "outputs": []
    },
    {
      "cell_type": "code",
      "source": [
        "\n",
        "reindexing_cond_list = [i.split(\"_\")[1] for i in le.classes_ if \"cond_\" in i]\n",
        "reindexing_drug_list = [i.split(\"_\")[1] for i in le.classes_ if \"drug_\" in i]\n",
        "reindexing_trial_list = [i.split(\"_\")[1] for i in le.classes_ if \"trial_\" in i]\n",
        "\n",
        "main_reindexing_list = [i.split(\"_\")[1] for i in le.classes_ ]\n",
        "node_type_names = [i.split(\"_\")[0] for i in le.classes_ ]\n",
        "\n",
        "mapping = {'cond': 0, \"drug\": 1, \"trial\":2}\n",
        "node_type_num = [mapping[i] for i in node_type_names]\n"
      ],
      "metadata": {
        "id": "FDj4aJvZT3Yy"
      },
      "id": "FDj4aJvZT3Yy",
      "execution_count": null,
      "outputs": []
    },
    {
      "cell_type": "code",
      "source": [
        "# reindex cond features\n",
        "df_cond = pd.DataFrame(cond_embeddings)\n",
        "df_cond['id'] = list(condition_mesh_dict.keys())\n",
        "df_cond = df_cond.set_index('id')\n",
        "df_cond = df_cond.reindex(reindexing_cond_list)\n",
        "\n",
        "# reindex drug features\n",
        "df_drug = pd.DataFrame(drug_embeddings)\n",
        "df_drug['id'] = list(values.keys())\n",
        "df_drug = df_drug.set_index('id')\n",
        "df_drug = df_drug.reindex(reindexing_drug_list)\n",
        "\n",
        "# reindex trial features\n",
        "trials_df = trials_df.reindex(reindexing_trial_list)\n",
        "trials_df = trials_df.astype('float')\n",
        "new_col_names = range(len(trials_df.columns))\n",
        "trials_df.columns = new_col_names\n",
        "\n",
        "# concat all three dataframes\n",
        "features_df = pd.concat([df_cond, df_drug, trials_df], axis=0)\n",
        "features_df = features_df.reindex(main_reindexing_list)\n",
        "\n",
        "# convert to torch\n",
        "x_features = torch.tensor(features_df.values, dtype=torch.float)"
      ],
      "metadata": {
        "id": "CM10_PRBfdxK"
      },
      "id": "CM10_PRBfdxK",
      "execution_count": null,
      "outputs": []
    },
    {
      "cell_type": "code",
      "source": [
        "data_hom_new.x = x_features\n"
      ],
      "metadata": {
        "id": "-u2GVH4Wbs83"
      },
      "id": "-u2GVH4Wbs83",
      "execution_count": null,
      "outputs": []
    },
    {
      "cell_type": "markdown",
      "source": [
        "Homogeneous Data Training"
      ],
      "metadata": {
        "id": "teLjRRNddb94"
      },
      "id": "teLjRRNddb94"
    },
    {
      "cell_type": "code",
      "source": [
        "\n",
        "data_hom_new.x"
      ],
      "metadata": {
        "colab": {
          "base_uri": "https://localhost:8080/"
        },
        "id": "oGNP1voQFFtp",
        "outputId": "d7061fe4-17e1-404d-e228-0fd83174bba0"
      },
      "id": "oGNP1voQFFtp",
      "execution_count": null,
      "outputs": [
        {
          "output_type": "execute_result",
          "data": {
            "text/plain": [
              "tensor([[ 0.6079, -0.4999,  0.4021,  ..., -0.4506, -0.5400,  0.5435],\n",
              "        [-0.1616,  0.7808, -0.7440,  ...,  0.2756,  0.6128, -0.5770],\n",
              "        [ 0.6165,  0.4559, -0.1511,  ...,  0.5186,  0.6526, -0.1789],\n",
              "        ...,\n",
              "        [ 0.0000,  0.0000,  0.0000,  ...,  0.0000,  0.0000,  0.0000],\n",
              "        [ 0.0000,  0.0000,  0.0000,  ...,  0.0000,  0.0000,  0.0000],\n",
              "        [ 0.0000,  1.0000,  0.0000,  ...,  0.0000,  0.0000,  0.0000]])"
            ]
          },
          "metadata": {},
          "execution_count": 296
        }
      ]
    },
    {
      "cell_type": "code",
      "source": [
        "from torch_geometric.nn import GCNConv, GAE, RGCNConv, FastRGCNConv, SAGEConv, GATConv\n",
        "from sklearn.model_selection import train_test_split\n",
        "\n",
        "indices = torch.arange(data_hom_new.edge_index.shape[1])\n",
        "train_idx, val_idx = train_test_split(indices, test_size=0.01)\n",
        "train_mask, val_mask = torch.zeros_like(indices).bool(), torch.zeros_like(indices).bool()\n",
        "train_mask[train_idx] = 1\n",
        "val_mask[val_idx] = 1\n",
        "train_mask, val_mask\n",
        "data_hom_new.val_mask = val_mask\n",
        "data_hom_new.train_mask = train_mask\n",
        "\n",
        "\n",
        "from torch_geometric.utils import negative_sampling\n",
        "data.val_neg_edge_index = negative_sampling(data_hom_new.edge_index, num_neg_samples=data_hom_new.val_mask.sum()) #Parisa: Should it not be \"data_hom_new.val_neg_edge_index =.....\"?\n",
        "device = torch.device(\"cuda\" if torch.cuda.is_available() else \"cpu\")\n",
        "\n",
        "class GNN_HOM(torch.nn.Module):\n",
        "    def __init__(self,  hidden_dim, out_dim):\n",
        "        super().__init__()\n",
        "        self.conv1 = RGCNConv(400, hidden_dim, 2)\n",
        "        self.conv2 = RGCNConv(hidden_dim, out_dim, 2)\n",
        "\n",
        "    def forward(self, x, edge_index, edge_attr):\n",
        "\n",
        "        x = F.relu(self.conv1(x, edge_index, edge_attr))\n",
        "        return self.conv2(x, edge_index, edge_attr )\n",
        "\n"
      ],
      "metadata": {
        "id": "SXnZKZ0lfBJr"
      },
      "id": "SXnZKZ0lfBJr",
      "execution_count": null,
      "outputs": []
    },
    {
      "cell_type": "code",
      "source": [
        "\n",
        "import torch\n",
        "import torch.nn.functional as F\n",
        "\n",
        "\n",
        "hdim = 16\n",
        "model = GAE(GNN_HOM(hidden_dim=hdim*2, out_dim=hdim))#.to(device)\n",
        "\n",
        "optimizer = torch.optim.Adam(model.parameters(), lr=0.001)\n",
        "training_losses, validation_losses, val_auc, val_ap = [], [], [], []\n",
        "\n",
        "for epoch in range(40):\n",
        "    model.train()\n",
        "    optimizer.zero_grad()\n",
        "\n",
        "    train_pos_edge_index = data_hom_new.edge_index[:, data_hom_new.train_mask].to(device)\n",
        "    train_pos_edge_attr = data_hom_new.edge_attr[data_hom_new.train_mask].to(device)\n",
        "\n",
        "    # x = data_hom_new.x.to(device)\n",
        "    # x = x.to_dense()\n",
        "\n",
        "    z = model.encode(x, train_pos_edge_index, train_pos_edge_attr)\n",
        "\n",
        "    loss = model.recon_loss(z, train_pos_edge_index)\n",
        "    training_loss = loss.item()\n",
        "    loss.backward()\n",
        "    optimizer.step()\n",
        "\n",
        "    model.eval()\n",
        "\n",
        "\n",
        "    train_pos_edge_index = data_hom_new.edge_index[:, data_hom_new.train_mask].to(device)\n",
        "\n",
        "    val_pos_edge_index = data_hom_new.edge_index[:, data_hom_new.val_mask].to(device)\n",
        "    val_pos_edge_attr = data_hom_new.edge_attr[data_hom_new.val_mask].to(device)\n",
        "\n",
        "    with torch.no_grad():\n",
        "        z = model.encode(x, train_pos_edge_index, train_pos_edge_attr)\n",
        "        validation_loss = model.recon_loss(z, val_pos_edge_index).item()\n",
        "\n",
        "    auc, ap = model.test(z, val_pos_edge_index, data_hom_new.val_neg_edge_index)\n",
        "\n",
        "    training_losses.append(training_loss)\n",
        "    validation_losses.append(validation_loss)\n",
        "    val_auc.append(auc)\n",
        "    val_ap.append(ap)\n",
        "\n",
        "#     if (epoch + 1) % 20 == 0:\n",
        "    print(\"Epoch: {:03d}, Training loss: {:.4f}, Validation loss: {:.4f}, AUC: {:.4f}, AP: {:.4f}\".format(\n",
        "        epoch + 1, training_loss, validation_loss, auc, ap))"
      ],
      "metadata": {
        "id": "ulFqCUJkfQdO",
        "colab": {
          "base_uri": "https://localhost:8080/"
        },
        "outputId": "3dfd9ff5-fc90-403e-8057-61f0bf7510e5"
      },
      "id": "ulFqCUJkfQdO",
      "execution_count": null,
      "outputs": [
        {
          "output_type": "stream",
          "name": "stdout",
          "text": [
            "Epoch: 001, Training loss: 0.9062, Validation loss: 1.1639, AUC: 0.8791, AP: 0.9071\n",
            "Epoch: 002, Training loss: 1.0507, Validation loss: 1.0311, AUC: 0.8942, AP: 0.9171\n",
            "Epoch: 003, Training loss: 0.9154, Validation loss: 1.1038, AUC: 0.8667, AP: 0.8909\n",
            "Epoch: 004, Training loss: 0.9819, Validation loss: 1.1163, AUC: 0.8750, AP: 0.8987\n",
            "Epoch: 005, Training loss: 0.9772, Validation loss: 1.0577, AUC: 0.8931, AP: 0.9150\n",
            "Epoch: 006, Training loss: 0.9353, Validation loss: 1.0311, AUC: 0.9015, AP: 0.9227\n",
            "Epoch: 007, Training loss: 0.9167, Validation loss: 1.0239, AUC: 0.9017, AP: 0.9233\n",
            "Epoch: 008, Training loss: 0.9265, Validation loss: 1.0446, AUC: 0.8994, AP: 0.9217\n",
            "Epoch: 009, Training loss: 0.9328, Validation loss: 1.0312, AUC: 0.8976, AP: 0.9205\n",
            "Epoch: 010, Training loss: 0.9254, Validation loss: 1.0277, AUC: 0.8960, AP: 0.9192\n",
            "Epoch: 011, Training loss: 0.9150, Validation loss: 1.0399, AUC: 0.8944, AP: 0.9175\n",
            "Epoch: 012, Training loss: 0.9112, Validation loss: 1.0387, AUC: 0.8936, AP: 0.9161\n",
            "Epoch: 013, Training loss: 0.9108, Validation loss: 1.0264, AUC: 0.8940, AP: 0.9159\n",
            "Epoch: 014, Training loss: 0.9122, Validation loss: 1.0282, AUC: 0.8965, AP: 0.9176\n",
            "Epoch: 015, Training loss: 0.9100, Validation loss: 1.0330, AUC: 0.9000, AP: 0.9207\n",
            "Epoch: 016, Training loss: 0.9049, Validation loss: 1.0212, AUC: 0.9032, AP: 0.9235\n",
            "Epoch: 017, Training loss: 0.9007, Validation loss: 1.0013, AUC: 0.9048, AP: 0.9251\n",
            "Epoch: 018, Training loss: 0.8975, Validation loss: 1.0028, AUC: 0.9047, AP: 0.9253\n",
            "Epoch: 019, Training loss: 0.8981, Validation loss: 1.0034, AUC: 0.9034, AP: 0.9246\n",
            "Epoch: 020, Training loss: 0.8975, Validation loss: 1.0122, AUC: 0.9019, AP: 0.9236\n",
            "Epoch: 021, Training loss: 0.8980, Validation loss: 1.0125, AUC: 0.9007, AP: 0.9230\n",
            "Epoch: 022, Training loss: 0.8955, Validation loss: 1.0081, AUC: 0.9001, AP: 0.9226\n",
            "Epoch: 023, Training loss: 0.8922, Validation loss: 1.0069, AUC: 0.8995, AP: 0.9222\n",
            "Epoch: 024, Training loss: 0.8878, Validation loss: 1.0098, AUC: 0.8988, AP: 0.9217\n",
            "Epoch: 025, Training loss: 0.8884, Validation loss: 1.0157, AUC: 0.8986, AP: 0.9215\n",
            "Epoch: 026, Training loss: 0.8889, Validation loss: 1.0154, AUC: 0.8992, AP: 0.9220\n",
            "Epoch: 027, Training loss: 0.8881, Validation loss: 1.0031, AUC: 0.9007, AP: 0.9232\n",
            "Epoch: 028, Training loss: 0.8860, Validation loss: 1.0073, AUC: 0.9024, AP: 0.9246\n",
            "Epoch: 029, Training loss: 0.8821, Validation loss: 1.0133, AUC: 0.9036, AP: 0.9256\n",
            "Epoch: 030, Training loss: 0.8817, Validation loss: 0.9937, AUC: 0.9040, AP: 0.9261\n",
            "Epoch: 031, Training loss: 0.8827, Validation loss: 1.0079, AUC: 0.9036, AP: 0.9261\n",
            "Epoch: 032, Training loss: 0.8832, Validation loss: 1.0101, AUC: 0.9028, AP: 0.9256\n",
            "Epoch: 033, Training loss: 0.8808, Validation loss: 1.0036, AUC: 0.9018, AP: 0.9251\n",
            "Epoch: 034, Training loss: 0.8794, Validation loss: 0.9982, AUC: 0.9008, AP: 0.9245\n",
            "Epoch: 035, Training loss: 0.8766, Validation loss: 1.0056, AUC: 0.8999, AP: 0.9240\n",
            "Epoch: 036, Training loss: 0.8767, Validation loss: 0.9980, AUC: 0.8996, AP: 0.9238\n",
            "Epoch: 037, Training loss: 0.8758, Validation loss: 0.9999, AUC: 0.9000, AP: 0.9241\n",
            "Epoch: 038, Training loss: 0.8764, Validation loss: 1.0052, AUC: 0.9013, AP: 0.9249\n",
            "Epoch: 039, Training loss: 0.8733, Validation loss: 1.0090, AUC: 0.9029, AP: 0.9261\n",
            "Epoch: 040, Training loss: 0.8738, Validation loss: 1.0150, AUC: 0.9044, AP: 0.9273\n"
          ]
        }
      ]
    },
    {
      "cell_type": "code",
      "source": [
        "data_het\n"
      ],
      "metadata": {
        "colab": {
          "base_uri": "https://localhost:8080/"
        },
        "id": "GTEFl6yA805j",
        "outputId": "bdabb600-a47c-423f-84c0-4b8b34c452bd"
      },
      "id": "GTEFl6yA805j",
      "execution_count": null,
      "outputs": [
        {
          "output_type": "execute_result",
          "data": {
            "text/plain": [
              "HeteroData(\n",
              "  \u001b[1mcond\u001b[0m={\n",
              "    num_nodes=2517,\n",
              "    x=[2517, 400]\n",
              "  },\n",
              "  \u001b[1mdrug\u001b[0m={\n",
              "    num_nodes=1832,\n",
              "    x=[1832, 400]\n",
              "  },\n",
              "  \u001b[1mtrial\u001b[0m={\n",
              "    num_nodes=109008,\n",
              "    x=[109008, 400]\n",
              "  },\n",
              "  \u001b[1m(trial, 0, cond)\u001b[0m={\n",
              "    edge_index=[2, 217999],\n",
              "    edge_attr=[217999]\n",
              "  },\n",
              "  \u001b[1m(trial, 1, drug)\u001b[0m={\n",
              "    edge_index=[2, 194502],\n",
              "    edge_attr=[194502]\n",
              "  },\n",
              "  \u001b[1m(cond, rev_0, trial)\u001b[0m={\n",
              "    edge_index=[2, 217999],\n",
              "    edge_attr=[217999]\n",
              "  },\n",
              "  \u001b[1m(drug, rev_1, trial)\u001b[0m={\n",
              "    edge_index=[2, 194502],\n",
              "    edge_attr=[194502]\n",
              "  }\n",
              ")"
            ]
          },
          "metadata": {},
          "execution_count": 299
        }
      ]
    },
    {
      "cell_type": "code",
      "source": [
        "\n",
        "data_het.edge_index_dict"
      ],
      "metadata": {
        "colab": {
          "base_uri": "https://localhost:8080/"
        },
        "id": "sO5KsgjpFjjb",
        "outputId": "9b904121-a32b-44d2-dc9f-0b68873409a6"
      },
      "id": "sO5KsgjpFjjb",
      "execution_count": null,
      "outputs": [
        {
          "output_type": "execute_result",
          "data": {
            "text/plain": [
              "{('trial',\n",
              "  '0',\n",
              "  'cond'): tensor([[ 61963,  61963,  61964,  ..., 105954, 105954, 105952],\n",
              "         [  1043,   2342,    422,  ...,    968,    970,   1092]]),\n",
              " ('trial',\n",
              "  '1',\n",
              "  'drug'): tensor([[ 61963,  81609,  52827,  ..., 102701,  32591,  32688],\n",
              "         [   777,    777,    777,  ...,   1244,   1587,   1683]]),\n",
              " ('cond',\n",
              "  'rev_0',\n",
              "  'trial'): tensor([[  1043,   2342,    422,  ...,    968,    970,   1092],\n",
              "         [ 61963,  61963,  61964,  ..., 105954, 105954, 105952]]),\n",
              " ('drug',\n",
              "  'rev_1',\n",
              "  'trial'): tensor([[   777,    777,    777,  ...,   1244,   1587,   1683],\n",
              "         [ 61963,  81609,  52827,  ..., 102701,  32591,  32688]])}"
            ]
          },
          "metadata": {},
          "execution_count": 298
        }
      ]
    },
    {
      "cell_type": "markdown",
      "source": [
        "Heterogeneous Data"
      ],
      "metadata": {
        "id": "RPM4OKFZQY_r"
      },
      "id": "RPM4OKFZQY_r"
    },
    {
      "cell_type": "code",
      "source": [
        "\n",
        "from torch_geometric.data import HeteroData\n",
        "import torch_geometric.transforms as T\n",
        "\n",
        "\n",
        "data_het = data_hom.to_heterogeneous(node_type = torch.tensor(node_type_num), edge_type = data_hom.edge_attr)\n",
        "data_het.rename(\"0\", \"cond\")\n",
        "data_het.rename(\"1\", \"drug\")\n",
        "data_het.rename(\"2\", \"trial\")\n",
        "\n",
        "data_het = T.ToUndirected()(data_het)\n",
        "\n",
        "data_het['cond'].x = torch.tensor(df_cond.values, dtype=torch.float)\n",
        "data_het['drug'].x = torch.tensor(df_drug.values, dtype=torch.float)\n",
        "data_het['trial'].x = torch.tensor(trials_df.values, dtype=torch.float)"
      ],
      "metadata": {
        "id": "pAwUV2Dyv5hi"
      },
      "id": "pAwUV2Dyv5hi",
      "execution_count": null,
      "outputs": []
    },
    {
      "cell_type": "code",
      "execution_count": null,
      "id": "98a665b8",
      "metadata": {
        "id": "98a665b8"
      },
      "outputs": [],
      "source": [
        "# heterogeneous data from homogeneous data\n",
        "# from torch_geometric.data import HeteroData\n",
        "# import torch_geometric.transforms as T\n",
        "\n",
        "\n",
        "# data = HeteroData()\n",
        "\n",
        "# data['conditions'].x = torch.tensor(cond_embeddings, dtype=torch.float)\n",
        "# data['drugs'].x = torch.tensor(drug_embeddings, dtype=torch.float)\n",
        "# data['trial'].x = torch.tensor(np.random.rand(109356, 2), dtype=torch.float)\n",
        "\n",
        "# data['trial', 'trial_cond', 'conditions'].edge_index = trial_cond_edges.t().contiguous()\n",
        "# data['trial', 'trial_drug', 'drugs'].edge_index = trial_drug_edges.t().contiguous()\n",
        "\n",
        "# # data['trial', 'trial_cond', 'conditions'].edge_attr = edge_attr[edge_attr == 0].contiguous()\n",
        "# # data['trial', 'trial_drug', 'drugs'].edge_attr = edge_attr[edge_attr == 1].contiguous()\n",
        "\n",
        "\n",
        "# data = T.ToUndirected()(data)\n"
      ]
    },
    {
      "cell_type": "code",
      "execution_count": null,
      "id": "e928effe",
      "metadata": {
        "id": "e928effe"
      },
      "outputs": [],
      "source": [
        "from torch_geometric.nn import GCNConv, GAE, RGCNConv, FastRGCNConv, SAGEConv, GATConv\n",
        "\n",
        "\n",
        "class GNN(torch.nn.Module):\n",
        "    def __init__(self,  hidden_dim, out_dim):\n",
        "        super().__init__()\n",
        "        self.conv1 = SAGEConv((-1,-1), hidden_dim, add_self_loops=False)\n",
        "        self.conv2 = SAGEConv(hidden_dim, out_dim, add_self_loops=False)\n",
        "\n",
        "    def forward(self, x, edge_index):\n",
        "\n",
        "        print(x)\n",
        "        x = F.relu(self.conv1(x, edge_index))\n",
        "        return self.conv2(x, edge_index)\n",
        "\n",
        "def model.recon_loss(z1, z2, pos_edge_index, num_nodes, neg_edge_index= None, EPS = 1e-15):\n",
        "      r\"\"\"Given latent variables :obj:`z`, computes the binary cross\n",
        "      entropy loss for positive edges :obj:`pos_edge_index` and negative\n",
        "      sampled edges.\n",
        "\n",
        "      Args:\n",
        "          z (torch.Tensor): The latent space :math:`\\mathbf{Z}`.\n",
        "          pos_edge_index (torch.Tensor): The positive edges to train against.\n",
        "          neg_edge_index (torch.Tensor, optional): The negative edges to\n",
        "              train against. If not given, uses negative sampling to\n",
        "              calculate negative edges. (default: :obj:`None`)\n",
        "      \"\"\"\n",
        "      def HetProductDecoder(z1, z2, edge_index):\n",
        "        row, col = pos_edge_index\n",
        "        value = (z1[row] * z2[col]).sum(dim=1)\n",
        "        return torch.sigmoid(value)\n",
        "\n",
        "\n",
        "      pos_loss = -torch.log(HetProductDecoder(z1, z2, pos_edge_index) + EPS).mean()\n",
        "\n",
        "      if neg_edge_index is None:\n",
        "          neg_edge_index = negative_sampling(pos_edge_index, num_nodes)\n",
        "      neg_loss = -torch.log(1 - HetProductDecoder(z1, z2, pos_edge_index) + EPS).mean()\n",
        "\n",
        "      return pos_loss + neg_loss"
      ]
    },
    {
      "cell_type": "code",
      "source": [
        "\n",
        "data_het"
      ],
      "metadata": {
        "colab": {
          "base_uri": "https://localhost:8080/"
        },
        "id": "P087NOj2E471",
        "outputId": "3ce9cc5f-d82c-4e78-8b27-1e580dc39dc1"
      },
      "id": "P087NOj2E471",
      "execution_count": null,
      "outputs": [
        {
          "output_type": "execute_result",
          "data": {
            "text/plain": [
              "HeteroData(\n",
              "  \u001b[1mcond\u001b[0m={\n",
              "    num_nodes=2517,\n",
              "    x=[2517, 400]\n",
              "  },\n",
              "  \u001b[1mdrug\u001b[0m={\n",
              "    num_nodes=1832,\n",
              "    x=[1832, 400]\n",
              "  },\n",
              "  \u001b[1mtrial\u001b[0m={\n",
              "    num_nodes=109008,\n",
              "    x=[109008, 400]\n",
              "  },\n",
              "  \u001b[1m(trial, 0, cond)\u001b[0m={\n",
              "    edge_index=[2, 217999],\n",
              "    edge_attr=[217999]\n",
              "  },\n",
              "  \u001b[1m(trial, 1, drug)\u001b[0m={\n",
              "    edge_index=[2, 194502],\n",
              "    edge_attr=[194502]\n",
              "  },\n",
              "  \u001b[1m(cond, rev_0, trial)\u001b[0m={\n",
              "    edge_index=[2, 217999],\n",
              "    edge_attr=[217999]\n",
              "  },\n",
              "  \u001b[1m(drug, rev_1, trial)\u001b[0m={\n",
              "    edge_index=[2, 194502],\n",
              "    edge_attr=[194502]\n",
              "  }\n",
              ")"
            ]
          },
          "metadata": {},
          "execution_count": 294
        }
      ]
    },
    {
      "cell_type": "code",
      "source": [
        "\n",
        "from torch_geometric.nn import to_hetero\n",
        "import torch\n",
        "import torch.nn.functional as F\n",
        "\n",
        "hdim = 16\n",
        "model = GNN(hidden_dim=hdim*2, out_dim=hdim)#.to(device)\n",
        "model = to_hetero(model, data_het.metadata())\n",
        "\n",
        "device = torch.device('cuda' if torch.cuda.is_available() else 'cpu')\n",
        "\n",
        "optimizer = torch.optim.Adam(model.parameters(), lr=0.01)\n",
        "\n",
        "training_losses, validation_losses, val_auc, val_ap = [], [], [], []\n",
        "\n",
        "for epoch in range(60):\n",
        "    model.train()\n",
        "    optimizer.zero_grad()\n",
        "\n",
        "    z = model(data_het.x_dict, data_het.edge_index_dict)\n",
        "\n",
        "    loss = 0\n",
        "    for edge_type in data_het.edge_index_dict:\n",
        "\n",
        "      edge_index_per_edge_type =  data_het.edge_index_dict[edge_type]\n",
        "      node1 = edge_type[0]\n",
        "      node2 = edge_type[2]\n",
        "\n",
        "      z1 = z[node1]\n",
        "      z2 = z[node2]\n",
        "      num_nodes = (z[node1].shape[0], z[node2].shape[0])\n",
        "      print(num_nodes)\n",
        "      loss_per_edge_type = recon_loss(z1, z2, edge_index_per_edge_type, num_nodes)\n",
        "      loss+= loss_per_edge_type\n",
        "\n",
        "    training_loss = loss.item()\n",
        "    loss.backward()\n",
        "    optimizer.step()\n",
        "\n",
        "    print(\"Epoch:\", epoch+1, \"Training Loss:\", training_loss)\n",
        "\n",
        "    model.eval()\n",
        "\n",
        "    val_pos_edge_index = data.edge_index[:, data.val_mask].to(device)\n",
        "    val_pos_edge_attr = data.edge_attr[data.val_mask].to(device)\n",
        "\n",
        "    with torch.no_grad():\n",
        "        z = model.encode(x, train_pos_edge_index, train_pos_edge_attr)\n",
        "        validation_loss = model.recon_loss(z, val_pos_edge_index).item()\n",
        "\n",
        "    auc, ap = model.test(z, val_pos_edge_index, data.val_neg_edge_index)\n",
        "\n",
        "    training_losses.append(training_loss)\n",
        "    validation_losses.append(validation_loss)\n",
        "    val_auc.append(auc)\n",
        "    val_ap.append(ap)\n",
        "\n",
        "    if (epoch + 1) % 20 == 0:\n",
        "    print(\"Epoch: {:03d}, Training loss: {:.4f}, Validation loss: {:.4f}, AUC: {:.4f}, AP: {:.4f}\".format(\n",
        "        epoch + 1, training_loss, validation_loss, auc, ap))"
      ],
      "metadata": {
        "id": "ItB_znE_dJz0"
      },
      "id": "ItB_znE_dJz0",
      "execution_count": 1,
      "outputs": []
    },
    {
      "cell_type": "markdown",
      "id": "c05818de",
      "metadata": {
        "id": "c05818de"
      },
      "source": [
        "## *********"
      ]
    }
  ],
  "metadata": {
    "kernelspec": {
      "display_name": "Python 3 (ipykernel)",
      "language": "python",
      "name": "python3"
    },
    "language_info": {
      "codemirror_mode": {
        "name": "ipython",
        "version": 3
      },
      "file_extension": ".py",
      "mimetype": "text/x-python",
      "name": "python",
      "nbconvert_exporter": "python",
      "pygments_lexer": "ipython3",
      "version": "3.10.9"
    },
    "colab": {
      "provenance": []
    },
    "accelerator": "GPU",
    "gpuClass": "standard"
  },
  "nbformat": 4,
  "nbformat_minor": 5
}